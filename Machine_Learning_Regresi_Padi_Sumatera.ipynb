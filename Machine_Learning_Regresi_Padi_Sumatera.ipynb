{
  "nbformat": 4,
  "nbformat_minor": 5,
  "metadata": {
    "kernelspec": {
      "display_name": "Python 3",
      "language": "python",
      "name": "python3"
    },
    "language_info": {
      "codemirror_mode": {
        "name": "ipython",
        "version": 3
      },
      "file_extension": ".py",
      "mimetype": "text/x-python",
      "name": "python",
      "nbconvert_exporter": "python",
      "pygments_lexer": "ipython3",
      "version": "3.8.5"
    },
    "colab": {
      "name": "Final New Regresi_padi.ipynb",
      "provenance": [],
      "collapsed_sections": []
    }
  },
  "cells": [
    {
      "cell_type": "code",
      "metadata": {
        "id": "streaming-silicon"
      },
      "source": [
        "import pandas as pd\n",
        "import matplotlib.pyplot as plt\n",
        "import seaborn as sns\n",
        "import numpy as np"
      ],
      "id": "streaming-silicon",
      "execution_count": null,
      "outputs": []
    },
    {
      "cell_type": "code",
      "metadata": {
        "colab": {
          "base_uri": "https://localhost:8080/"
        },
        "id": "BzIgkd9aWgwN",
        "outputId": "e6af138d-60b3-45c4-e0c1-a942ae158cc3"
      },
      "source": [
        "from google.colab import drive\n",
        "drive.mount('/content/drive')"
      ],
      "id": "BzIgkd9aWgwN",
      "execution_count": null,
      "outputs": [
        {
          "output_type": "stream",
          "text": [
            "Drive already mounted at /content/drive; to attempt to forcibly remount, call drive.mount(\"/content/drive\", force_remount=True).\n"
          ],
          "name": "stdout"
        }
      ]
    },
    {
      "cell_type": "code",
      "metadata": {
        "id": "ruled-union"
      },
      "source": [
        "df = pd.read_csv('/content/drive/MyDrive/Crop Yield Prediction/Data_Tanaman_Padi_1.csv')"
      ],
      "id": "ruled-union",
      "execution_count": null,
      "outputs": []
    },
    {
      "cell_type": "code",
      "metadata": {
        "colab": {
          "base_uri": "https://localhost:8080/",
          "height": 419
        },
        "id": "refined-enlargement",
        "outputId": "cb7b3412-1004-4a11-8fa8-feb08f1e8b79"
      },
      "source": [
        "df"
      ],
      "id": "refined-enlargement",
      "execution_count": null,
      "outputs": [
        {
          "output_type": "execute_result",
          "data": {
            "text/html": [
              "<div>\n",
              "<style scoped>\n",
              "    .dataframe tbody tr th:only-of-type {\n",
              "        vertical-align: middle;\n",
              "    }\n",
              "\n",
              "    .dataframe tbody tr th {\n",
              "        vertical-align: top;\n",
              "    }\n",
              "\n",
              "    .dataframe thead th {\n",
              "        text-align: right;\n",
              "    }\n",
              "</style>\n",
              "<table border=\"1\" class=\"dataframe\">\n",
              "  <thead>\n",
              "    <tr style=\"text-align: right;\">\n",
              "      <th></th>\n",
              "      <th>Provinsi</th>\n",
              "      <th>Tahun</th>\n",
              "      <th>Produksi</th>\n",
              "      <th>Luas Panen</th>\n",
              "      <th>Curah hujan</th>\n",
              "      <th>Kelembapan</th>\n",
              "      <th>Suhu rata-rata</th>\n",
              "    </tr>\n",
              "  </thead>\n",
              "  <tbody>\n",
              "    <tr>\n",
              "      <th>0</th>\n",
              "      <td>Aceh</td>\n",
              "      <td>1993</td>\n",
              "      <td>1329536.00</td>\n",
              "      <td>323589.00</td>\n",
              "      <td>1627.0</td>\n",
              "      <td>82.00</td>\n",
              "      <td>26.06</td>\n",
              "    </tr>\n",
              "    <tr>\n",
              "      <th>1</th>\n",
              "      <td>Aceh</td>\n",
              "      <td>1994</td>\n",
              "      <td>1299699.00</td>\n",
              "      <td>329041.00</td>\n",
              "      <td>1521.0</td>\n",
              "      <td>82.12</td>\n",
              "      <td>26.92</td>\n",
              "    </tr>\n",
              "    <tr>\n",
              "      <th>2</th>\n",
              "      <td>Aceh</td>\n",
              "      <td>1995</td>\n",
              "      <td>1382905.00</td>\n",
              "      <td>339253.00</td>\n",
              "      <td>1476.0</td>\n",
              "      <td>82.72</td>\n",
              "      <td>26.27</td>\n",
              "    </tr>\n",
              "    <tr>\n",
              "      <th>3</th>\n",
              "      <td>Aceh</td>\n",
              "      <td>1996</td>\n",
              "      <td>1419128.00</td>\n",
              "      <td>348223.00</td>\n",
              "      <td>1557.0</td>\n",
              "      <td>83.00</td>\n",
              "      <td>26.08</td>\n",
              "    </tr>\n",
              "    <tr>\n",
              "      <th>4</th>\n",
              "      <td>Aceh</td>\n",
              "      <td>1997</td>\n",
              "      <td>1368074.00</td>\n",
              "      <td>337561.00</td>\n",
              "      <td>1339.0</td>\n",
              "      <td>82.46</td>\n",
              "      <td>26.31</td>\n",
              "    </tr>\n",
              "    <tr>\n",
              "      <th>...</th>\n",
              "      <td>...</td>\n",
              "      <td>...</td>\n",
              "      <td>...</td>\n",
              "      <td>...</td>\n",
              "      <td>...</td>\n",
              "      <td>...</td>\n",
              "      <td>...</td>\n",
              "    </tr>\n",
              "    <tr>\n",
              "      <th>219</th>\n",
              "      <td>Lampung</td>\n",
              "      <td>2016</td>\n",
              "      <td>3831923.00</td>\n",
              "      <td>390799.00</td>\n",
              "      <td>2317.6</td>\n",
              "      <td>79.40</td>\n",
              "      <td>26.45</td>\n",
              "    </tr>\n",
              "    <tr>\n",
              "      <th>220</th>\n",
              "      <td>Lampung</td>\n",
              "      <td>2017</td>\n",
              "      <td>4090654.00</td>\n",
              "      <td>396559.00</td>\n",
              "      <td>1825.1</td>\n",
              "      <td>77.04</td>\n",
              "      <td>26.36</td>\n",
              "    </tr>\n",
              "    <tr>\n",
              "      <th>221</th>\n",
              "      <td>Lampung</td>\n",
              "      <td>2018</td>\n",
              "      <td>2488641.91</td>\n",
              "      <td>511940.93</td>\n",
              "      <td>1385.8</td>\n",
              "      <td>76.05</td>\n",
              "      <td>25.50</td>\n",
              "    </tr>\n",
              "    <tr>\n",
              "      <th>222</th>\n",
              "      <td>Lampung</td>\n",
              "      <td>2019</td>\n",
              "      <td>2164089.33</td>\n",
              "      <td>464103.42</td>\n",
              "      <td>1706.4</td>\n",
              "      <td>78.03</td>\n",
              "      <td>27.23</td>\n",
              "    </tr>\n",
              "    <tr>\n",
              "      <th>223</th>\n",
              "      <td>Lampung</td>\n",
              "      <td>2020</td>\n",
              "      <td>2604913.29</td>\n",
              "      <td>545149.05</td>\n",
              "      <td>2211.3</td>\n",
              "      <td>75.80</td>\n",
              "      <td>24.58</td>\n",
              "    </tr>\n",
              "  </tbody>\n",
              "</table>\n",
              "<p>224 rows × 7 columns</p>\n",
              "</div>"
            ],
            "text/plain": [
              "    Provinsi  Tahun    Produksi  ...  Curah hujan  Kelembapan  Suhu rata-rata\n",
              "0       Aceh   1993  1329536.00  ...       1627.0       82.00           26.06\n",
              "1       Aceh   1994  1299699.00  ...       1521.0       82.12           26.92\n",
              "2       Aceh   1995  1382905.00  ...       1476.0       82.72           26.27\n",
              "3       Aceh   1996  1419128.00  ...       1557.0       83.00           26.08\n",
              "4       Aceh   1997  1368074.00  ...       1339.0       82.46           26.31\n",
              "..       ...    ...         ...  ...          ...         ...             ...\n",
              "219  Lampung   2016  3831923.00  ...       2317.6       79.40           26.45\n",
              "220  Lampung   2017  4090654.00  ...       1825.1       77.04           26.36\n",
              "221  Lampung   2018  2488641.91  ...       1385.8       76.05           25.50\n",
              "222  Lampung   2019  2164089.33  ...       1706.4       78.03           27.23\n",
              "223  Lampung   2020  2604913.29  ...       2211.3       75.80           24.58\n",
              "\n",
              "[224 rows x 7 columns]"
            ]
          },
          "metadata": {
            "tags": []
          },
          "execution_count": 4
        }
      ]
    },
    {
      "cell_type": "markdown",
      "metadata": {
        "id": "middle-contribution"
      },
      "source": [
        "# Exploration Data Analysis"
      ],
      "id": "middle-contribution"
    },
    {
      "cell_type": "code",
      "metadata": {
        "colab": {
          "base_uri": "https://localhost:8080/",
          "height": 297
        },
        "id": "sorted-petite",
        "outputId": "b491ed10-51e2-4c55-d56c-fcfa491e7d33"
      },
      "source": [
        "df.describe()"
      ],
      "id": "sorted-petite",
      "execution_count": null,
      "outputs": [
        {
          "output_type": "execute_result",
          "data": {
            "text/html": [
              "<div>\n",
              "<style scoped>\n",
              "    .dataframe tbody tr th:only-of-type {\n",
              "        vertical-align: middle;\n",
              "    }\n",
              "\n",
              "    .dataframe tbody tr th {\n",
              "        vertical-align: top;\n",
              "    }\n",
              "\n",
              "    .dataframe thead th {\n",
              "        text-align: right;\n",
              "    }\n",
              "</style>\n",
              "<table border=\"1\" class=\"dataframe\">\n",
              "  <thead>\n",
              "    <tr style=\"text-align: right;\">\n",
              "      <th></th>\n",
              "      <th>Tahun</th>\n",
              "      <th>Produksi</th>\n",
              "      <th>Luas Panen</th>\n",
              "      <th>Curah hujan</th>\n",
              "      <th>Kelembapan</th>\n",
              "      <th>Suhu rata-rata</th>\n",
              "    </tr>\n",
              "  </thead>\n",
              "  <tbody>\n",
              "    <tr>\n",
              "      <th>count</th>\n",
              "      <td>224.000000</td>\n",
              "      <td>2.240000e+02</td>\n",
              "      <td>224.000000</td>\n",
              "      <td>224.000000</td>\n",
              "      <td>224.000000</td>\n",
              "      <td>224.000000</td>\n",
              "    </tr>\n",
              "    <tr>\n",
              "      <th>mean</th>\n",
              "      <td>2006.500000</td>\n",
              "      <td>1.679701e+06</td>\n",
              "      <td>374349.966920</td>\n",
              "      <td>2452.490759</td>\n",
              "      <td>80.948705</td>\n",
              "      <td>26.801964</td>\n",
              "    </tr>\n",
              "    <tr>\n",
              "      <th>std</th>\n",
              "      <td>8.095838</td>\n",
              "      <td>1.161387e+06</td>\n",
              "      <td>232751.161987</td>\n",
              "      <td>1031.972625</td>\n",
              "      <td>4.878680</td>\n",
              "      <td>1.197041</td>\n",
              "    </tr>\n",
              "    <tr>\n",
              "      <th>min</th>\n",
              "      <td>1993.000000</td>\n",
              "      <td>4.293800e+04</td>\n",
              "      <td>63142.040000</td>\n",
              "      <td>222.500000</td>\n",
              "      <td>54.200000</td>\n",
              "      <td>22.190000</td>\n",
              "    </tr>\n",
              "    <tr>\n",
              "      <th>25%</th>\n",
              "      <td>1999.750000</td>\n",
              "      <td>5.488570e+05</td>\n",
              "      <td>146919.500000</td>\n",
              "      <td>1703.525000</td>\n",
              "      <td>78.975000</td>\n",
              "      <td>26.177500</td>\n",
              "    </tr>\n",
              "    <tr>\n",
              "      <th>50%</th>\n",
              "      <td>2006.500000</td>\n",
              "      <td>1.667773e+06</td>\n",
              "      <td>373551.500000</td>\n",
              "      <td>2315.700000</td>\n",
              "      <td>82.375000</td>\n",
              "      <td>26.730000</td>\n",
              "    </tr>\n",
              "    <tr>\n",
              "      <th>75%</th>\n",
              "      <td>2013.250000</td>\n",
              "      <td>2.436851e+06</td>\n",
              "      <td>514570.250000</td>\n",
              "      <td>3039.700000</td>\n",
              "      <td>84.000000</td>\n",
              "      <td>27.200000</td>\n",
              "    </tr>\n",
              "    <tr>\n",
              "      <th>max</th>\n",
              "      <td>2020.000000</td>\n",
              "      <td>4.881089e+06</td>\n",
              "      <td>872737.000000</td>\n",
              "      <td>5522.000000</td>\n",
              "      <td>90.600000</td>\n",
              "      <td>29.850000</td>\n",
              "    </tr>\n",
              "  </tbody>\n",
              "</table>\n",
              "</div>"
            ],
            "text/plain": [
              "             Tahun      Produksi  ...  Kelembapan  Suhu rata-rata\n",
              "count   224.000000  2.240000e+02  ...  224.000000      224.000000\n",
              "mean   2006.500000  1.679701e+06  ...   80.948705       26.801964\n",
              "std       8.095838  1.161387e+06  ...    4.878680        1.197041\n",
              "min    1993.000000  4.293800e+04  ...   54.200000       22.190000\n",
              "25%    1999.750000  5.488570e+05  ...   78.975000       26.177500\n",
              "50%    2006.500000  1.667773e+06  ...   82.375000       26.730000\n",
              "75%    2013.250000  2.436851e+06  ...   84.000000       27.200000\n",
              "max    2020.000000  4.881089e+06  ...   90.600000       29.850000\n",
              "\n",
              "[8 rows x 6 columns]"
            ]
          },
          "metadata": {
            "tags": []
          },
          "execution_count": 5
        }
      ]
    },
    {
      "cell_type": "code",
      "metadata": {
        "colab": {
          "base_uri": "https://localhost:8080/",
          "height": 363
        },
        "id": "talented-black",
        "outputId": "9ae3688e-88e7-41bf-eeb7-01080f5308eb"
      },
      "source": [
        "sns.lineplot(df[\"Tahun\"],df[\"Produksi\"])\n",
        "plt.ylabel('Produksi (Ton)')"
      ],
      "id": "talented-black",
      "execution_count": null,
      "outputs": [
        {
          "output_type": "stream",
          "text": [
            "/usr/local/lib/python3.7/dist-packages/seaborn/_decorators.py:43: FutureWarning: Pass the following variables as keyword args: x, y. From version 0.12, the only valid positional argument will be `data`, and passing other arguments without an explicit keyword will result in an error or misinterpretation.\n",
            "  FutureWarning\n"
          ],
          "name": "stderr"
        },
        {
          "output_type": "execute_result",
          "data": {
            "text/plain": [
              "Text(0, 0.5, 'Produksi (Ton)')"
            ]
          },
          "metadata": {
            "tags": []
          },
          "execution_count": 78
        },
        {
          "output_type": "display_data",
          "data": {
            "image/png": "[encoded data removed]",
            "text/plain": [
              "<Figure size 432x288 with 1 Axes>"
            ]
          },
          "metadata": {
            "tags": [],
            "needs_background": "light"
          }
        }
      ]
    },
    {
      "cell_type": "code",
      "metadata": {
        "colab": {
          "base_uri": "https://localhost:8080/",
          "height": 693
        },
        "id": "heated-gauge",
        "outputId": "cc10611a-ed71-4553-ccbd-629bc4c9acbf"
      },
      "source": [
        "plt.figure(figsize=(13,10))\n",
        "sns.barplot(df[\"Provinsi\"],df[\"Produksi\"])\n",
        "plt.xlabel('Provinsi',fontsize=12)\n",
        "plt.ylabel('Produksi (Ton)',fontsize=12)"
      ],
      "id": "heated-gauge",
      "execution_count": null,
      "outputs": [
        {
          "output_type": "stream",
          "text": [
            "/usr/local/lib/python3.7/dist-packages/seaborn/_decorators.py:43: FutureWarning: Pass the following variables as keyword args: x, y. From version 0.12, the only valid positional argument will be `data`, and passing other arguments without an explicit keyword will result in an error or misinterpretation.\n",
            "  FutureWarning\n"
          ],
          "name": "stderr"
        },
        {
          "output_type": "execute_result",
          "data": {
            "text/plain": [
              "Text(0, 0.5, 'Produksi (Ton)')"
            ]
          },
          "metadata": {
            "tags": []
          },
          "execution_count": 79
        },
        {
          "output_type": "display_data",
          "data": {
            "image/png": "[encoded data removed]",
            "text/plain": [
              "<Figure size 936x720 with 1 Axes>"
            ]
          },
          "metadata": {
            "tags": [],
            "needs_background": "light"
          }
        }
      ]
    },
    {
      "cell_type": "code",
      "metadata": {
        "colab": {
          "base_uri": "https://localhost:8080/",
          "height": 685
        },
        "id": "variable-concentration",
        "outputId": "3e73854a-436c-4629-a533-8fe19b167cca"
      },
      "source": [
        "plt.figure(figsize=(25,10))\n",
        "sns.barplot(\"Tahun\",\"Produksi\",data=df)\n",
        "plt.xticks(rotation=45)\n",
        "plt.xlabel('Tahun',fontsize=12)\n",
        "plt.ylabel('Produksi (Ton)',fontsize=12)"
      ],
      "id": "variable-concentration",
      "execution_count": null,
      "outputs": [
        {
          "output_type": "stream",
          "text": [
            "/usr/local/lib/python3.7/dist-packages/seaborn/_decorators.py:43: FutureWarning: Pass the following variables as keyword args: x, y. From version 0.12, the only valid positional argument will be `data`, and passing other arguments without an explicit keyword will result in an error or misinterpretation.\n",
            "  FutureWarning\n"
          ],
          "name": "stderr"
        },
        {
          "output_type": "execute_result",
          "data": {
            "text/plain": [
              "Text(0, 0.5, 'Produksi (Ton)')"
            ]
          },
          "metadata": {
            "tags": []
          },
          "execution_count": 80
        },
        {
          "output_type": "display_data",
          "data": {
            "image/png": "[encoded data removed]",
            "text/plain": [
              "<Figure size 1800x720 with 1 Axes>"
            ]
          },
          "metadata": {
            "tags": [],
            "needs_background": "light"
          }
        }
      ]
    },
    {
      "cell_type": "code",
      "metadata": {
        "colab": {
          "base_uri": "https://localhost:8080/",
          "height": 514
        },
        "id": "involved-meaning",
        "outputId": "3085cc0b-2004-484a-f70a-3d5a22f63640"
      },
      "source": [
        "sns.jointplot(\"Luas Panen\",\"Produksi\",data=df,kind=\"reg\")\n",
        "plt.ylabel('Produksi (Ton)')\n",
        "plt.xlabel('Luas Lahan (ha)')"
      ],
      "id": "involved-meaning",
      "execution_count": null,
      "outputs": [
        {
          "output_type": "stream",
          "text": [
            "/usr/local/lib/python3.7/dist-packages/seaborn/_decorators.py:43: FutureWarning: Pass the following variables as keyword args: x, y. From version 0.12, the only valid positional argument will be `data`, and passing other arguments without an explicit keyword will result in an error or misinterpretation.\n",
            "  FutureWarning\n"
          ],
          "name": "stderr"
        },
        {
          "output_type": "execute_result",
          "data": {
            "text/plain": [
              "Text(0.5, 49.99999999999995, 'Luas Lahan (ha)')"
            ]
          },
          "metadata": {
            "tags": []
          },
          "execution_count": 84
        },
        {
          "output_type": "display_data",
          "data": {
            "image/png": "[encoded data removed]",
            "text/plain": [
              "<Figure size 432x432 with 3 Axes>"
            ]
          },
          "metadata": {
            "tags": [],
            "needs_background": "light"
          }
        }
      ]
    },
    {
      "cell_type": "code",
      "metadata": {
        "colab": {
          "base_uri": "https://localhost:8080/",
          "height": 363
        },
        "id": "gdw_jaQ_Eqb8",
        "outputId": "9ff1f0cf-c892-4871-847e-2d7d4ff06035"
      },
      "source": [
        "sns.regplot(df[\"Luas Panen\"],df[\"Produksi\"])\n",
        "plt.ylabel('Produksi (Ton)')\n",
        "plt.xlabel('Luas Lahan (ha)')"
      ],
      "id": "gdw_jaQ_Eqb8",
      "execution_count": null,
      "outputs": [
        {
          "output_type": "stream",
          "text": [
            "/usr/local/lib/python3.7/dist-packages/seaborn/_decorators.py:43: FutureWarning: Pass the following variables as keyword args: x, y. From version 0.12, the only valid positional argument will be `data`, and passing other arguments without an explicit keyword will result in an error or misinterpretation.\n",
            "  FutureWarning\n"
          ],
          "name": "stderr"
        },
        {
          "output_type": "execute_result",
          "data": {
            "text/plain": [
              "Text(0.5, 0, 'Luas Lahan (ha)')"
            ]
          },
          "metadata": {
            "tags": []
          },
          "execution_count": 86
        },
        {
          "output_type": "display_data",
          "data": {
            "image/png": "[encoded data removed]",
            "text/plain": [
              "<Figure size 432x288 with 1 Axes>"
            ]
          },
          "metadata": {
            "tags": [],
            "needs_background": "light"
          }
        }
      ]
    },
    {
      "cell_type": "code",
      "metadata": {
        "colab": {
          "base_uri": "https://localhost:8080/",
          "height": 512
        },
        "id": "placed-remark",
        "outputId": "f5fce126-584a-49ce-990a-6e991c3ef281"
      },
      "source": [
        "sns.jointplot(\"Curah hujan\",\"Produksi\",data=df,kind=\"reg\")"
      ],
      "id": "placed-remark",
      "execution_count": null,
      "outputs": [
        {
          "output_type": "stream",
          "text": [
            "/usr/local/lib/python3.7/dist-packages/seaborn/_decorators.py:43: FutureWarning: Pass the following variables as keyword args: x, y. From version 0.12, the only valid positional argument will be `data`, and passing other arguments without an explicit keyword will result in an error or misinterpretation.\n",
            "  FutureWarning\n"
          ],
          "name": "stderr"
        },
        {
          "output_type": "execute_result",
          "data": {
            "text/plain": [
              "<seaborn.axisgrid.JointGrid at 0x7f5f2dd50650>"
            ]
          },
          "metadata": {
            "tags": []
          },
          "execution_count": 11
        },
        {
          "output_type": "display_data",
          "data": {
            "image/png": "[encoded data removed]",
            "text/plain": [
              "<Figure size 432x432 with 3 Axes>"
            ]
          },
          "metadata": {
            "tags": [],
            "needs_background": "light"
          }
        }
      ]
    },
    {
      "cell_type": "code",
      "metadata": {
        "colab": {
          "base_uri": "https://localhost:8080/",
          "height": 363
        },
        "id": "UAnlNUCRFdCD",
        "outputId": "1e72a2e4-87e1-43fd-b646-fe21839798de"
      },
      "source": [
        "sns.regplot(df[\"Curah hujan\"],df[\"Produksi\"])\n",
        "plt.ylabel('Produksi (Ton)')\n",
        "plt.xlabel('Curah hujan (mm)')"
      ],
      "id": "UAnlNUCRFdCD",
      "execution_count": null,
      "outputs": [
        {
          "output_type": "stream",
          "text": [
            "/usr/local/lib/python3.7/dist-packages/seaborn/_decorators.py:43: FutureWarning: Pass the following variables as keyword args: x, y. From version 0.12, the only valid positional argument will be `data`, and passing other arguments without an explicit keyword will result in an error or misinterpretation.\n",
            "  FutureWarning\n"
          ],
          "name": "stderr"
        },
        {
          "output_type": "execute_result",
          "data": {
            "text/plain": [
              "Text(0.5, 0, 'Curah hujan (mm)')"
            ]
          },
          "metadata": {
            "tags": []
          },
          "execution_count": 88
        },
        {
          "output_type": "display_data",
          "data": {
            "image/png": "[encoded data removed]",
            "text/plain": [
              "<Figure size 432x288 with 1 Axes>"
            ]
          },
          "metadata": {
            "tags": [],
            "needs_background": "light"
          }
        }
      ]
    },
    {
      "cell_type": "code",
      "metadata": {
        "colab": {
          "base_uri": "https://localhost:8080/",
          "height": 511
        },
        "id": "disabled-liquid",
        "outputId": "e9c45269-2787-4ac2-e361-145f44f8e970"
      },
      "source": [
        "C_mat = df.corr()\n",
        "fig = plt.figure(figsize = (8,8))\n",
        "\n",
        "sns.heatmap(C_mat, square = True, annot=True)\n",
        "plt.show()"
      ],
      "id": "disabled-liquid",
      "execution_count": null,
      "outputs": [
        {
          "output_type": "display_data",
          "data": {
            "image/png": "[encoded data removed]",
            "text/plain": [
              "<Figure size 576x576 with 2 Axes>"
            ]
          },
          "metadata": {
            "tags": [],
            "needs_background": "light"
          }
        }
      ]
    },
    {
      "cell_type": "code",
      "metadata": {
        "id": "historic-implement"
      },
      "source": [
        "df_one = pd.get_dummies(df, columns=['Provinsi'], prefix = ['Provinsi'])"
      ],
      "id": "historic-implement",
      "execution_count": null,
      "outputs": []
    },
    {
      "cell_type": "code",
      "metadata": {
        "colab": {
          "base_uri": "https://localhost:8080/",
          "height": 473
        },
        "id": "enhanced-television",
        "outputId": "9dfe69b7-0f0b-423a-ed58-6b47646ae8e4"
      },
      "source": [
        "df_one"
      ],
      "id": "enhanced-television",
      "execution_count": null,
      "outputs": [
        {
          "output_type": "execute_result",
          "data": {
            "text/html": [
              "<div>\n",
              "<style scoped>\n",
              "    .dataframe tbody tr th:only-of-type {\n",
              "        vertical-align: middle;\n",
              "    }\n",
              "\n",
              "    .dataframe tbody tr th {\n",
              "        vertical-align: top;\n",
              "    }\n",
              "\n",
              "    .dataframe thead th {\n",
              "        text-align: right;\n",
              "    }\n",
              "</style>\n",
              "<table border=\"1\" class=\"dataframe\">\n",
              "  <thead>\n",
              "    <tr style=\"text-align: right;\">\n",
              "      <th></th>\n",
              "      <th>Tahun</th>\n",
              "      <th>Produksi</th>\n",
              "      <th>Luas Panen</th>\n",
              "      <th>Curah hujan</th>\n",
              "      <th>Kelembapan</th>\n",
              "      <th>Suhu rata-rata</th>\n",
              "      <th>Provinsi_Aceh</th>\n",
              "      <th>Provinsi_Bengkulu</th>\n",
              "      <th>Provinsi_Jambi</th>\n",
              "      <th>Provinsi_Lampung</th>\n",
              "      <th>Provinsi_Riau</th>\n",
              "      <th>Provinsi_Sumatera Barat</th>\n",
              "      <th>Provinsi_Sumatera Selatan</th>\n",
              "      <th>Provinsi_Sumatera Utara</th>\n",
              "    </tr>\n",
              "  </thead>\n",
              "  <tbody>\n",
              "    <tr>\n",
              "      <th>0</th>\n",
              "      <td>1993</td>\n",
              "      <td>1329536.00</td>\n",
              "      <td>323589.00</td>\n",
              "      <td>1627.0</td>\n",
              "      <td>82.00</td>\n",
              "      <td>26.06</td>\n",
              "      <td>1</td>\n",
              "      <td>0</td>\n",
              "      <td>0</td>\n",
              "      <td>0</td>\n",
              "      <td>0</td>\n",
              "      <td>0</td>\n",
              "      <td>0</td>\n",
              "      <td>0</td>\n",
              "    </tr>\n",
              "    <tr>\n",
              "      <th>1</th>\n",
              "      <td>1994</td>\n",
              "      <td>1299699.00</td>\n",
              "      <td>329041.00</td>\n",
              "      <td>1521.0</td>\n",
              "      <td>82.12</td>\n",
              "      <td>26.92</td>\n",
              "      <td>1</td>\n",
              "      <td>0</td>\n",
              "      <td>0</td>\n",
              "      <td>0</td>\n",
              "      <td>0</td>\n",
              "      <td>0</td>\n",
              "      <td>0</td>\n",
              "      <td>0</td>\n",
              "    </tr>\n",
              "    <tr>\n",
              "      <th>2</th>\n",
              "      <td>1995</td>\n",
              "      <td>1382905.00</td>\n",
              "      <td>339253.00</td>\n",
              "      <td>1476.0</td>\n",
              "      <td>82.72</td>\n",
              "      <td>26.27</td>\n",
              "      <td>1</td>\n",
              "      <td>0</td>\n",
              "      <td>0</td>\n",
              "      <td>0</td>\n",
              "      <td>0</td>\n",
              "      <td>0</td>\n",
              "      <td>0</td>\n",
              "      <td>0</td>\n",
              "    </tr>\n",
              "    <tr>\n",
              "      <th>3</th>\n",
              "      <td>1996</td>\n",
              "      <td>1419128.00</td>\n",
              "      <td>348223.00</td>\n",
              "      <td>1557.0</td>\n",
              "      <td>83.00</td>\n",
              "      <td>26.08</td>\n",
              "      <td>1</td>\n",
              "      <td>0</td>\n",
              "      <td>0</td>\n",
              "      <td>0</td>\n",
              "      <td>0</td>\n",
              "      <td>0</td>\n",
              "      <td>0</td>\n",
              "      <td>0</td>\n",
              "    </tr>\n",
              "    <tr>\n",
              "      <th>4</th>\n",
              "      <td>1997</td>\n",
              "      <td>1368074.00</td>\n",
              "      <td>337561.00</td>\n",
              "      <td>1339.0</td>\n",
              "      <td>82.46</td>\n",
              "      <td>26.31</td>\n",
              "      <td>1</td>\n",
              "      <td>0</td>\n",
              "      <td>0</td>\n",
              "      <td>0</td>\n",
              "      <td>0</td>\n",
              "      <td>0</td>\n",
              "      <td>0</td>\n",
              "      <td>0</td>\n",
              "    </tr>\n",
              "    <tr>\n",
              "      <th>...</th>\n",
              "      <td>...</td>\n",
              "      <td>...</td>\n",
              "      <td>...</td>\n",
              "      <td>...</td>\n",
              "      <td>...</td>\n",
              "      <td>...</td>\n",
              "      <td>...</td>\n",
              "      <td>...</td>\n",
              "      <td>...</td>\n",
              "      <td>...</td>\n",
              "      <td>...</td>\n",
              "      <td>...</td>\n",
              "      <td>...</td>\n",
              "      <td>...</td>\n",
              "    </tr>\n",
              "    <tr>\n",
              "      <th>219</th>\n",
              "      <td>2016</td>\n",
              "      <td>3831923.00</td>\n",
              "      <td>390799.00</td>\n",
              "      <td>2317.6</td>\n",
              "      <td>79.40</td>\n",
              "      <td>26.45</td>\n",
              "      <td>0</td>\n",
              "      <td>0</td>\n",
              "      <td>0</td>\n",
              "      <td>1</td>\n",
              "      <td>0</td>\n",
              "      <td>0</td>\n",
              "      <td>0</td>\n",
              "      <td>0</td>\n",
              "    </tr>\n",
              "    <tr>\n",
              "      <th>220</th>\n",
              "      <td>2017</td>\n",
              "      <td>4090654.00</td>\n",
              "      <td>396559.00</td>\n",
              "      <td>1825.1</td>\n",
              "      <td>77.04</td>\n",
              "      <td>26.36</td>\n",
              "      <td>0</td>\n",
              "      <td>0</td>\n",
              "      <td>0</td>\n",
              "      <td>1</td>\n",
              "      <td>0</td>\n",
              "      <td>0</td>\n",
              "      <td>0</td>\n",
              "      <td>0</td>\n",
              "    </tr>\n",
              "    <tr>\n",
              "      <th>221</th>\n",
              "      <td>2018</td>\n",
              "      <td>2488641.91</td>\n",
              "      <td>511940.93</td>\n",
              "      <td>1385.8</td>\n",
              "      <td>76.05</td>\n",
              "      <td>25.50</td>\n",
              "      <td>0</td>\n",
              "      <td>0</td>\n",
              "      <td>0</td>\n",
              "      <td>1</td>\n",
              "      <td>0</td>\n",
              "      <td>0</td>\n",
              "      <td>0</td>\n",
              "      <td>0</td>\n",
              "    </tr>\n",
              "    <tr>\n",
              "      <th>222</th>\n",
              "      <td>2019</td>\n",
              "      <td>2164089.33</td>\n",
              "      <td>464103.42</td>\n",
              "      <td>1706.4</td>\n",
              "      <td>78.03</td>\n",
              "      <td>27.23</td>\n",
              "      <td>0</td>\n",
              "      <td>0</td>\n",
              "      <td>0</td>\n",
              "      <td>1</td>\n",
              "      <td>0</td>\n",
              "      <td>0</td>\n",
              "      <td>0</td>\n",
              "      <td>0</td>\n",
              "    </tr>\n",
              "    <tr>\n",
              "      <th>223</th>\n",
              "      <td>2020</td>\n",
              "      <td>2604913.29</td>\n",
              "      <td>545149.05</td>\n",
              "      <td>2211.3</td>\n",
              "      <td>75.80</td>\n",
              "      <td>24.58</td>\n",
              "      <td>0</td>\n",
              "      <td>0</td>\n",
              "      <td>0</td>\n",
              "      <td>1</td>\n",
              "      <td>0</td>\n",
              "      <td>0</td>\n",
              "      <td>0</td>\n",
              "      <td>0</td>\n",
              "    </tr>\n",
              "  </tbody>\n",
              "</table>\n",
              "<p>224 rows × 14 columns</p>\n",
              "</div>"
            ],
            "text/plain": [
              "     Tahun    Produksi  ...  Provinsi_Sumatera Selatan  Provinsi_Sumatera Utara\n",
              "0     1993  1329536.00  ...                          0                        0\n",
              "1     1994  1299699.00  ...                          0                        0\n",
              "2     1995  1382905.00  ...                          0                        0\n",
              "3     1996  1419128.00  ...                          0                        0\n",
              "4     1997  1368074.00  ...                          0                        0\n",
              "..     ...         ...  ...                        ...                      ...\n",
              "219   2016  3831923.00  ...                          0                        0\n",
              "220   2017  4090654.00  ...                          0                        0\n",
              "221   2018  2488641.91  ...                          0                        0\n",
              "222   2019  2164089.33  ...                          0                        0\n",
              "223   2020  2604913.29  ...                          0                        0\n",
              "\n",
              "[224 rows x 14 columns]"
            ]
          },
          "metadata": {
            "tags": []
          },
          "execution_count": 13
        }
      ]
    },
    {
      "cell_type": "code",
      "metadata": {
        "id": "lpdcGAqEP2_6"
      },
      "source": [
        "df_one = df_one.drop(columns='Tahun')"
      ],
      "id": "lpdcGAqEP2_6",
      "execution_count": null,
      "outputs": []
    },
    {
      "cell_type": "code",
      "metadata": {
        "colab": {
          "base_uri": "https://localhost:8080/"
        },
        "id": "conceptual-photography",
        "outputId": "971d0e7b-ca7d-4982-8cd3-870eccbd7261"
      },
      "source": [
        "df_one.info()"
      ],
      "id": "conceptual-photography",
      "execution_count": null,
      "outputs": [
        {
          "output_type": "stream",
          "text": [
            "<class 'pandas.core.frame.DataFrame'>\n",
            "RangeIndex: 224 entries, 0 to 223\n",
            "Data columns (total 13 columns):\n",
            " #   Column                     Non-Null Count  Dtype  \n",
            "---  ------                     --------------  -----  \n",
            " 0   Produksi                   224 non-null    float64\n",
            " 1   Luas Panen                 224 non-null    float64\n",
            " 2   Curah hujan                224 non-null    float64\n",
            " 3   Kelembapan                 224 non-null    float64\n",
            " 4   Suhu rata-rata             224 non-null    float64\n",
            " 5   Provinsi_Aceh              224 non-null    uint8  \n",
            " 6   Provinsi_Bengkulu          224 non-null    uint8  \n",
            " 7   Provinsi_Jambi             224 non-null    uint8  \n",
            " 8   Provinsi_Lampung           224 non-null    uint8  \n",
            " 9   Provinsi_Riau              224 non-null    uint8  \n",
            " 10  Provinsi_Sumatera Barat    224 non-null    uint8  \n",
            " 11  Provinsi_Sumatera Selatan  224 non-null    uint8  \n",
            " 12  Provinsi_Sumatera Utara    224 non-null    uint8  \n",
            "dtypes: float64(5), uint8(8)\n",
            "memory usage: 10.6 KB\n"
          ],
          "name": "stdout"
        }
      ]
    },
    {
      "cell_type": "markdown",
      "metadata": {
        "id": "addressed-costs"
      },
      "source": [
        "# Preprocessing Data"
      ],
      "id": "addressed-costs"
    },
    {
      "cell_type": "code",
      "metadata": {
        "id": "italian-preserve"
      },
      "source": [
        "X_reg=df_one.loc[:, df_one.columns != 'Produksi'].values\n",
        "y_reg=df_one['Produksi'].values"
      ],
      "id": "italian-preserve",
      "execution_count": null,
      "outputs": []
    },
    {
      "cell_type": "code",
      "metadata": {
        "colab": {
          "base_uri": "https://localhost:8080/"
        },
        "id": "funky-christianity",
        "outputId": "f368646a-5568-4587-b090-27a9ff0f574d"
      },
      "source": [
        "X_reg"
      ],
      "id": "funky-christianity",
      "execution_count": null,
      "outputs": [
        {
          "output_type": "execute_result",
          "data": {
            "text/plain": [
              "array([[3.2358900e+05, 1.6270000e+03, 8.2000000e+01, ..., 0.0000000e+00,\n",
              "        0.0000000e+00, 0.0000000e+00],\n",
              "       [3.2904100e+05, 1.5210000e+03, 8.2120000e+01, ..., 0.0000000e+00,\n",
              "        0.0000000e+00, 0.0000000e+00],\n",
              "       [3.3925300e+05, 1.4760000e+03, 8.2720000e+01, ..., 0.0000000e+00,\n",
              "        0.0000000e+00, 0.0000000e+00],\n",
              "       ...,\n",
              "       [5.1194093e+05, 1.3858000e+03, 7.6050000e+01, ..., 0.0000000e+00,\n",
              "        0.0000000e+00, 0.0000000e+00],\n",
              "       [4.6410342e+05, 1.7064000e+03, 7.8030000e+01, ..., 0.0000000e+00,\n",
              "        0.0000000e+00, 0.0000000e+00],\n",
              "       [5.4514905e+05, 2.2113000e+03, 7.5800000e+01, ..., 0.0000000e+00,\n",
              "        0.0000000e+00, 0.0000000e+00]])"
            ]
          },
          "metadata": {
            "tags": []
          },
          "execution_count": 17
        }
      ]
    },
    {
      "cell_type": "code",
      "metadata": {
        "id": "popular-value"
      },
      "source": [
        "y_reg = y_reg.reshape(-1,1)"
      ],
      "id": "popular-value",
      "execution_count": null,
      "outputs": []
    },
    {
      "cell_type": "code",
      "metadata": {
        "colab": {
          "base_uri": "https://localhost:8080/"
        },
        "id": "encouraging-appendix",
        "outputId": "6309e0be-bbac-4cdd-cda7-3957c8f45e74"
      },
      "source": [
        "from sklearn.model_selection import train_test_split\n",
        "\n",
        "X_train,X_test,y_train,y_test = train_test_split(X_reg,y_reg,test_size=0.2, random_state=42)\n",
        "print(\"X_train :\",X_train.shape)\n",
        "print(\"X_test :\",X_test.shape)\n",
        "print(\"y_train :\",y_train.shape)\n",
        "print(\"y_test :\",y_test.shape)"
      ],
      "id": "encouraging-appendix",
      "execution_count": null,
      "outputs": [
        {
          "output_type": "stream",
          "text": [
            "X_train : (179, 12)\n",
            "X_test : (45, 12)\n",
            "y_train : (179, 1)\n",
            "y_test : (45, 1)\n"
          ],
          "name": "stdout"
        }
      ]
    },
    {
      "cell_type": "markdown",
      "metadata": {
        "id": "connected-explorer"
      },
      "source": [
        "# Scaling Data"
      ],
      "id": "connected-explorer"
    },
    {
      "cell_type": "code",
      "metadata": {
        "id": "executed-content"
      },
      "source": [
        "from sklearn.preprocessing import StandardScaler\n",
        "sc = StandardScaler()\n",
        "X_train[:, :] = sc.fit_transform(X_train[:, :])\n",
        "X_test[:, :] = sc.transform(X_test[:, :])\n",
        "y_train[:, :] = sc.fit_transform(y_train[:, :])\n",
        "y_test[:, :] = sc.transform(y_test[:, :])"
      ],
      "id": "executed-content",
      "execution_count": null,
      "outputs": []
    },
    {
      "cell_type": "markdown",
      "metadata": {
        "id": "bizarre-update"
      },
      "source": [
        "# Model Selection"
      ],
      "id": "bizarre-update"
    },
    {
      "cell_type": "code",
      "metadata": {
        "id": "simplified-depression"
      },
      "source": [
        "from sklearn.ensemble import RandomForestRegressor\n",
        "from sklearn.tree import DecisionTreeRegressor\n",
        "from sklearn.ensemble import GradientBoostingRegressor\n",
        "from sklearn.ensemble import ExtraTreesRegressor\n",
        "from sklearn.linear_model import LogisticRegression\n",
        "\n",
        "\n",
        "from sklearn.metrics import mean_squared_error as mse\n",
        "from sklearn.metrics import mean_absolute_error as mae\n",
        "from sklearn.metrics import r2_score"
      ],
      "id": "simplified-depression",
      "execution_count": null,
      "outputs": []
    },
    {
      "cell_type": "markdown",
      "metadata": {
        "id": "electric-blade"
      },
      "source": [
        "## 1. Random Forest"
      ],
      "id": "electric-blade"
    },
    {
      "cell_type": "code",
      "metadata": {
        "id": "appropriate-anime"
      },
      "source": [
        "regresi = RandomForestRegressor(max_depth=4, random_state=0, n_estimators=1000)\n",
        "regresi.fit(X_train, np.ravel(y_train))\n",
        "y_pred = regresi.predict(X_test)"
      ],
      "id": "appropriate-anime",
      "execution_count": null,
      "outputs": []
    },
    {
      "cell_type": "code",
      "metadata": {
        "colab": {
          "base_uri": "https://localhost:8080/"
        },
        "id": "disabled-stone",
        "outputId": "e538e0ff-4414-40c5-ab8e-f88ad3547581"
      },
      "source": [
        "print('MSE =', mse(y_pred, y_test))\n",
        "print('MAE =', mae(y_pred, y_test))\n",
        "print('R2 Score =', r2_score(y_pred, y_test))"
      ],
      "id": "disabled-stone",
      "execution_count": null,
      "outputs": [
        {
          "output_type": "stream",
          "text": [
            "MSE = 0.06486085783169432\n",
            "MAE = 0.18928216035216366\n",
            "R2 Score = 0.8971994595759115\n"
          ],
          "name": "stdout"
        }
      ]
    },
    {
      "cell_type": "code",
      "metadata": {
        "id": "02l67IgX5i71"
      },
      "source": [
        "y_pred = sc.inverse_transform(y_pred)"
      ],
      "id": "02l67IgX5i71",
      "execution_count": null,
      "outputs": []
    },
    {
      "cell_type": "code",
      "metadata": {
        "colab": {
          "base_uri": "https://localhost:8080/"
        },
        "id": "K-ntsn9V5mUb",
        "outputId": "9b98cad7-e81b-42ce-d832-b5bde7ae924c"
      },
      "source": [
        "mse_rf = mse(y_pred, y_test)\n",
        "print('MSE =', mse_rf)\n",
        "print('MAE =', mae(y_pred, y_test))\n",
        "print('RMSE =', np.sqrt(mse_rf))\n",
        "print('R2 Score =', r2_score(y_pred, y_test))"
      ],
      "id": "K-ntsn9V5mUb",
      "execution_count": null,
      "outputs": [
        {
          "output_type": "stream",
          "text": [
            "MSE = 93796676477.03009\n",
            "MAE = 227620.86272182688\n",
            "RMSE = 306262.4307306237\n",
            "R2 Score = 0.8971994595759115\n"
          ],
          "name": "stdout"
        }
      ]
    },
    {
      "cell_type": "markdown",
      "metadata": {
        "id": "blessed-irish"
      },
      "source": [
        "## 2. Decision Tree"
      ],
      "id": "blessed-irish"
    },
    {
      "cell_type": "code",
      "metadata": {
        "id": "committed-twenty"
      },
      "source": [
        "dtr = DecisionTreeRegressor(max_depth=4)\n",
        "dtr.fit(X_train,np.ravel(y_train))\n",
        "dtr_pred = dtr.predict(X_test)"
      ],
      "id": "committed-twenty",
      "execution_count": null,
      "outputs": []
    },
    {
      "cell_type": "code",
      "metadata": {
        "colab": {
          "base_uri": "https://localhost:8080/"
        },
        "id": "diverse-protest",
        "outputId": "8dcaa27c-5784-4dee-9fcc-6faf5b3022de"
      },
      "source": [
        "print('MSE =', mse(dtr_pred, y_test))\n",
        "print('MAE =', mae(dtr_pred, y_test))\n",
        "print('R2 Score =', r2_score(dtr_pred, y_test))"
      ],
      "id": "diverse-protest",
      "execution_count": null,
      "outputs": [
        {
          "output_type": "stream",
          "text": [
            "MSE = 0.06668805084023742\n",
            "MAE = 0.190469640535713\n",
            "R2 Score = 0.8937180597236807\n"
          ],
          "name": "stdout"
        }
      ]
    },
    {
      "cell_type": "code",
      "metadata": {
        "id": "XeqxxtTl5KyD"
      },
      "source": [
        "dtr_pred = sc.inverse_transform(dtr_pred)"
      ],
      "id": "XeqxxtTl5KyD",
      "execution_count": null,
      "outputs": []
    },
    {
      "cell_type": "code",
      "metadata": {
        "colab": {
          "base_uri": "https://localhost:8080/"
        },
        "id": "s4EDKbiC5Pyt",
        "outputId": "e5820249-5da1-4915-8769-dee01933692b"
      },
      "source": [
        "mse_dtr = mse(dtr_pred, y_test)\n",
        "print('MSE =', mse_dtr)\n",
        "print('MAE =', mae(dtr_pred, y_test))\n",
        "print('RMSE =', np.sqrt(mse_dtr))\n",
        "print('R2 Score =', r2_score(dtr_pred, y_test))"
      ],
      "id": "s4EDKbiC5Pyt",
      "execution_count": null,
      "outputs": [
        {
          "output_type": "stream",
          "text": [
            "MSE = 96439019443.38634\n",
            "MAE = 229048.86451207308\n",
            "RMSE = 310546.32415049826\n",
            "R2 Score = 0.8937180597236807\n"
          ],
          "name": "stdout"
        }
      ]
    },
    {
      "cell_type": "markdown",
      "metadata": {
        "id": "sought-metro"
      },
      "source": [
        "## 3. Gradient Boosting Regressor"
      ],
      "id": "sought-metro"
    },
    {
      "cell_type": "code",
      "metadata": {
        "id": "polish-hygiene"
      },
      "source": [
        "gbr = GradientBoostingRegressor(n_estimators=1000,max_depth=4,random_state=0)\n",
        "gbr.fit(X_train, np.ravel(y_train))\n",
        "gbr_pred = gbr.predict(X_test)"
      ],
      "id": "polish-hygiene",
      "execution_count": null,
      "outputs": []
    },
    {
      "cell_type": "code",
      "metadata": {
        "colab": {
          "base_uri": "https://localhost:8080/"
        },
        "id": "temporal-execution",
        "outputId": "553cd9e7-58fb-4801-eabe-1de5d5b34415"
      },
      "source": [
        "print('MSE =', mse(gbr_pred, y_test))\n",
        "print('MAE =', mae(gbr_pred, y_test))\n",
        "print('R2 Score =', r2_score(gbr_pred, y_test))"
      ],
      "id": "temporal-execution",
      "execution_count": null,
      "outputs": [
        {
          "output_type": "stream",
          "text": [
            "MSE = 0.027540764760537764\n",
            "MAE = 0.11470504011927696\n",
            "R2 Score = 0.9577873326180273\n"
          ],
          "name": "stdout"
        }
      ]
    },
    {
      "cell_type": "code",
      "metadata": {
        "id": "l0f_UcM35A1H"
      },
      "source": [
        "gbr_pred = sc.inverse_transform(gbr_pred)"
      ],
      "id": "l0f_UcM35A1H",
      "execution_count": null,
      "outputs": []
    },
    {
      "cell_type": "code",
      "metadata": {
        "colab": {
          "base_uri": "https://localhost:8080/"
        },
        "id": "2H9cmYTu5D--",
        "outputId": "c4819d8c-60b3-41af-b64a-05239fa55218"
      },
      "source": [
        "print('MSE =', mse(gbr_pred, y_test))\n",
        "print('MAE =', mae(gbr_pred, y_test))\n",
        "print('R2 Score =', r2_score(gbr_pred, y_test))"
      ],
      "id": "2H9cmYTu5D--",
      "execution_count": null,
      "outputs": [
        {
          "output_type": "stream",
          "text": [
            "MSE = 39827290118.137344\n",
            "MAE = 137938.30407427045\n",
            "R2 Score = 0.9577873326180273\n"
          ],
          "name": "stdout"
        }
      ]
    },
    {
      "cell_type": "markdown",
      "metadata": {
        "id": "olympic-sarah"
      },
      "source": [
        "## 4. Extra Tree"
      ],
      "id": "olympic-sarah"
    },
    {
      "cell_type": "code",
      "metadata": {
        "id": "behind-belief"
      },
      "source": [
        "xtr = ExtraTreesRegressor(n_estimators=100, random_state=0)\n",
        "xtr.fit(X_train, np.ravel(y_train))\n",
        "xtr_pred = xtr_pred = xtr.predict(X_test)"
      ],
      "id": "behind-belief",
      "execution_count": null,
      "outputs": []
    },
    {
      "cell_type": "code",
      "metadata": {
        "colab": {
          "base_uri": "https://localhost:8080/"
        },
        "id": "environmental-orange",
        "outputId": "e8cf4870-2a88-4a6b-98c7-b934f25bd75c"
      },
      "source": [
        "mse_xtr = mse(xtr_pred, y_test)\n",
        "print('MSE =', mse_xtr)\n",
        "print('MAE =', mae(xtr_pred, y_test))\n",
        "print('RMSE =', np.sqrt(mse_xtr))\n",
        "print('R2 Score =', r2_score(xtr_pred, y_test))"
      ],
      "id": "environmental-orange",
      "execution_count": null,
      "outputs": [
        {
          "output_type": "stream",
          "text": [
            "MSE = 0.020311384421536464\n",
            "MAE = 0.08842841485795362\n",
            "RMSE = 0.14251801437550435\n",
            "R2 Score = 0.9681362174298782\n"
          ],
          "name": "stdout"
        }
      ]
    },
    {
      "cell_type": "code",
      "metadata": {
        "id": "jBMMZkLMolFH",
        "colab": {
          "base_uri": "https://localhost:8080/"
        },
        "outputId": "c69ad692-cedc-459e-9e25-95d4a0d8cb0c"
      },
      "source": [
        "###predicting the test set results\n",
        "print(np.concatenate((xtr_pred.reshape(len(xtr_pred),1), y_test.reshape(len(y_test),1)),1))"
      ],
      "id": "jBMMZkLMolFH",
      "execution_count": null,
      "outputs": [
        {
          "output_type": "stream",
          "text": [
            "[[-0.21593919 -0.34477318]\n",
            " [-1.06738195 -1.07477987]\n",
            " [-0.94793697 -0.97999778]\n",
            " [ 0.19174286 -0.12587712]\n",
            " [ 0.4452386   0.6318839 ]\n",
            " [-0.94338324 -0.96798578]\n",
            " [ 0.17408158  0.14853358]\n",
            " [-1.10754276 -1.07657023]\n",
            " [-1.10325887 -1.12174598]\n",
            " [-1.00037259 -1.00777879]\n",
            " [ 0.33798417  0.28897706]\n",
            " [-0.2012508  -0.27149377]\n",
            " [ 0.32160052  0.20204496]\n",
            " [-0.24764836  0.01931372]\n",
            " [ 1.27087426  1.16898607]\n",
            " [ 1.51521819  1.54133632]\n",
            " [-1.09388344 -1.10747711]\n",
            " [-0.09555045 -0.20437876]\n",
            " [ 0.35671714  0.3287792 ]\n",
            " [-1.0763664  -1.40188451]\n",
            " [-1.09622437 -1.10775402]\n",
            " [-0.04524116  0.03674759]\n",
            " [ 0.6822358   0.63129106]\n",
            " [ 0.22050597 -0.31696057]\n",
            " [ 0.38503358  0.11215498]\n",
            " [-0.00333337 -0.0517071 ]\n",
            " [-0.9749791  -0.84383688]\n",
            " [ 0.13567564  0.12175543]\n",
            " [ 0.04279207  0.04901904]\n",
            " [-0.98862997 -0.95955202]\n",
            " [ 0.83600202  0.78589198]\n",
            " [ 0.16539173  0.13364768]\n",
            " [-0.14819142 -0.16249021]\n",
            " [-1.01966866 -0.95640038]\n",
            " [ 1.25269005  1.16125499]\n",
            " [-0.92775055 -0.94405326]\n",
            " [ 1.46741396  1.30263065]\n",
            " [-1.20165666 -1.21361255]\n",
            " [ 0.52855057  0.53188629]\n",
            " [-1.10893552 -1.07063949]\n",
            " [ 0.02745578 -0.26544661]\n",
            " [ 0.30070919  0.19751541]\n",
            " [-1.03151559 -1.03436318]\n",
            " [-0.95882835 -0.97476971]\n",
            " [ 1.05837075  1.0522829 ]]\n"
          ],
          "name": "stdout"
        }
      ]
    },
    {
      "cell_type": "code",
      "metadata": {
        "colab": {
          "base_uri": "https://localhost:8080/"
        },
        "id": "wShKI9pi3OW9",
        "outputId": "e9dcfb55-70d4-400c-dd04-ab1857da24a7"
      },
      "source": [
        "#inverse scaling\n",
        "xtr_pred = sc.inverse_transform(xtr_pred)\n",
        "y_test = sc.inverse_transform(y_test)\n",
        "print(np.concatenate((xtr_pred.reshape(len(xtr_pred),1), y_test.reshape(len(y_test),1)),1))"
      ],
      "id": "wShKI9pi3OW9",
      "execution_count": null,
      "outputs": [
        {
          "output_type": "stream",
          "text": [
            "[[1469094.039   1314165.     ]\n",
            " [ 445193.345    436297.     ]\n",
            " [ 588831.66     550277.     ]\n",
            " [1959351.233   1577398.     ]\n",
            " [2264192.006   2488641.91   ]\n",
            " [ 594307.7381   564722.     ]\n",
            " [1938112.6962  1907390.     ]\n",
            " [ 396898.0459   434144.     ]\n",
            " [ 402049.64     379818.     ]\n",
            " [ 525775.31     516869.     ]\n",
            " [2135213.4083  2076280.01   ]\n",
            " [1486757.542   1402287.     ]\n",
            " [2115511.2875  1971740.     ]\n",
            " [1430962.2476  1751996.94   ]\n",
            " [3257058.42    3134533.     ]\n",
            " [3550893.6959  3582302.     ]\n",
            " [ 413324.0368   396977.     ]\n",
            " [1613867.268   1482996.01   ]\n",
            " [2157740.7096  2124144.     ]\n",
            " [ 434389.1153    42938.     ]\n",
            " [ 410508.96     396644.     ]\n",
            " [1674366.6     1772962.     ]\n",
            " [2549192.4858  2487929.     ]\n",
            " [1993940.2516  1347611.     ]\n",
            " [2191792.5787  1863643.     ]\n",
            " [1724762.7192  1666591.     ]\n",
            " [ 556312.19855  714017.     ]\n",
            " [1891927.72    1875188.     ]\n",
            " [1780230.781   1787719.     ]\n",
            " [ 539896.3774   574864.     ]\n",
            " [2734103.7336  2673844.     ]\n",
            " [1927662.7334  1889489.     ]\n",
            " [1550563.981   1533369.     ]\n",
            " [ 502570.86     578654.     ]\n",
            " [3235191.04    3125236.     ]\n",
            " [ 613106.8      593502.     ]\n",
            " [3493406.83    3295247.     ]\n",
            " [ 283721.5822   269344.05   ]\n",
            " [2364378.64    2368390.     ]\n",
            " [ 395223.19     441276.     ]\n",
            " [1761788.1534  1409559.     ]\n",
            " [2090388.4624  1966293.     ]\n",
            " [ 488324.37     484900.     ]\n",
            " [ 575734.25     556564.     ]\n",
            " [3001512.7726  2994191.84   ]]\n"
          ],
          "name": "stdout"
        }
      ]
    },
    {
      "cell_type": "code",
      "metadata": {
        "colab": {
          "base_uri": "https://localhost:8080/",
          "height": 298
        },
        "id": "FROf_G6Y3jiR",
        "outputId": "8ba76ae3-94c3-4759-9c35-c8cda52a5594"
      },
      "source": [
        "plt.scatter(y_test, xtr_pred)\n",
        "plt.xlabel(\"Actual Values\", fontsize=12)\n",
        "plt.ylabel(\"Predicted Values\",fontsize=12)\n",
        "plt.title(\"ExtraTree Regressor\",fontsize=14)\n",
        "plt.show()"
      ],
      "id": "FROf_G6Y3jiR",
      "execution_count": null,
      "outputs": [
        {
          "output_type": "display_data",
          "data": {
            "image/png": "[encoded data removed]",
            "text/plain": [
              "<Figure size 432x288 with 1 Axes>"
            ]
          },
          "metadata": {
            "tags": [],
            "needs_background": "light"
          }
        }
      ]
    },
    {
      "cell_type": "code",
      "metadata": {
        "colab": {
          "base_uri": "https://localhost:8080/",
          "height": 354
        },
        "id": "0giHNDJi3viI",
        "outputId": "b36459c0-da4b-42fc-9b3c-ccf575ac989e"
      },
      "source": [
        "sns.regplot(y_test,xtr_pred)\n",
        "plt.xlabel(\"Actual Values\", fontsize=12)\n",
        "plt.ylabel(\"Predicted Values\", fontsize=12)\n",
        "plt.title(\"ExtraTree Regressor\", fontsize=14)\n",
        "plt.show()"
      ],
      "id": "0giHNDJi3viI",
      "execution_count": null,
      "outputs": [
        {
          "output_type": "stream",
          "text": [
            "/usr/local/lib/python3.7/dist-packages/seaborn/_decorators.py:43: FutureWarning: Pass the following variables as keyword args: x, y. From version 0.12, the only valid positional argument will be `data`, and passing other arguments without an explicit keyword will result in an error or misinterpretation.\n",
            "  FutureWarning\n"
          ],
          "name": "stderr"
        },
        {
          "output_type": "display_data",
          "data": {
            "image/png": "[encoded data removed]",
            "text/plain": [
              "<Figure size 432x288 with 1 Axes>"
            ]
          },
          "metadata": {
            "tags": [],
            "needs_background": "light"
          }
        }
      ]
    },
    {
      "cell_type": "code",
      "metadata": {
        "colab": {
          "base_uri": "https://localhost:8080/",
          "height": 390
        },
        "id": "e9UBTyLvmY8R",
        "outputId": "f07e1564-7c49-455d-c38a-993659d5bdea"
      },
      "source": [
        "sns.regplot(y_test,xtr_pred)\n",
        "sns.regplot(y_test,gbr_pred)\n",
        "plt.xlabel(\"Actual Values\", fontsize=12)\n",
        "plt.ylabel(\"Predicted Values\", fontsize=12)\n",
        "plt.title(\"ExtraTree Regressor\", fontsize=14)\n",
        "plt.legend(['Extra Tree', 'Gradient Boost'], loc='upper left')\n",
        "plt.show()"
      ],
      "id": "e9UBTyLvmY8R",
      "execution_count": null,
      "outputs": [
        {
          "output_type": "stream",
          "text": [
            "/usr/local/lib/python3.7/dist-packages/seaborn/_decorators.py:43: FutureWarning: Pass the following variables as keyword args: x, y. From version 0.12, the only valid positional argument will be `data`, and passing other arguments without an explicit keyword will result in an error or misinterpretation.\n",
            "  FutureWarning\n",
            "/usr/local/lib/python3.7/dist-packages/seaborn/_decorators.py:43: FutureWarning: Pass the following variables as keyword args: x, y. From version 0.12, the only valid positional argument will be `data`, and passing other arguments without an explicit keyword will result in an error or misinterpretation.\n",
            "  FutureWarning\n"
          ],
          "name": "stderr"
        },
        {
          "output_type": "display_data",
          "data": {
            "image/png": "[encoded data removed]",
            "text/plain": [
              "<Figure size 432x288 with 1 Axes>"
            ]
          },
          "metadata": {
            "tags": [],
            "needs_background": "light"
          }
        }
      ]
    },
    {
      "cell_type": "code",
      "metadata": {
        "colab": {
          "base_uri": "https://localhost:8080/",
          "height": 390
        },
        "id": "kh9Do9piLTma",
        "outputId": "c6f3f9dc-4481-4b91-b3f4-cd4bd0e13632"
      },
      "source": [
        "sns.regplot(y_test,xtr_pred,marker=\"o\")\n",
        "sns.regplot(y_test,gbr_pred,marker=\"^\")\n",
        "plt.xlabel(\"Actual Values\", fontsize=12)\n",
        "plt.ylabel(\"Predicted Values\", fontsize=12)\n",
        "plt.title(\"ExtraTree Regressor\", fontsize=14)\n",
        "plt.legend(['Extra Tree', 'Gradient Boost'], loc='upper left')\n",
        "plt.show()"
      ],
      "id": "kh9Do9piLTma",
      "execution_count": null,
      "outputs": [
        {
          "output_type": "stream",
          "text": [
            "/usr/local/lib/python3.7/dist-packages/seaborn/_decorators.py:43: FutureWarning: Pass the following variables as keyword args: x, y. From version 0.12, the only valid positional argument will be `data`, and passing other arguments without an explicit keyword will result in an error or misinterpretation.\n",
            "  FutureWarning\n",
            "/usr/local/lib/python3.7/dist-packages/seaborn/_decorators.py:43: FutureWarning: Pass the following variables as keyword args: x, y. From version 0.12, the only valid positional argument will be `data`, and passing other arguments without an explicit keyword will result in an error or misinterpretation.\n",
            "  FutureWarning\n"
          ],
          "name": "stderr"
        },
        {
          "output_type": "display_data",
          "data": {
            "image/png": "[encoded data removed]",
            "text/plain": [
              "<Figure size 432x288 with 1 Axes>"
            ]
          },
          "metadata": {
            "tags": [],
            "needs_background": "light"
          }
        }
      ]
    },
    {
      "cell_type": "code",
      "metadata": {
        "colab": {
          "base_uri": "https://localhost:8080/",
          "height": 425
        },
        "id": "PLllUpcO-Pn7",
        "outputId": "13a0f808-75d9-46fd-fdf6-d33087cab3eb"
      },
      "source": [
        "sns.regplot(y_test,xtr_pred)\n",
        "sns.regplot(y_test,gbr_pred)\n",
        "sns.regplot(y_test,y_prediksi)\n",
        "plt.xlabel(\"Actual Values\", fontsize=12)\n",
        "plt.ylabel(\"Predicted Values\", fontsize=12)\n",
        "plt.title(\"ExtraTree Regressor\", fontsize=14)\n",
        "plt.legend(['Extra Tree', 'Gradient Boost','ANN'], loc='upper left')\n",
        "plt.show()"
      ],
      "id": "PLllUpcO-Pn7",
      "execution_count": null,
      "outputs": [
        {
          "output_type": "stream",
          "text": [
            "/usr/local/lib/python3.7/dist-packages/seaborn/_decorators.py:43: FutureWarning: Pass the following variables as keyword args: x, y. From version 0.12, the only valid positional argument will be `data`, and passing other arguments without an explicit keyword will result in an error or misinterpretation.\n",
            "  FutureWarning\n",
            "/usr/local/lib/python3.7/dist-packages/seaborn/_decorators.py:43: FutureWarning: Pass the following variables as keyword args: x, y. From version 0.12, the only valid positional argument will be `data`, and passing other arguments without an explicit keyword will result in an error or misinterpretation.\n",
            "  FutureWarning\n",
            "/usr/local/lib/python3.7/dist-packages/seaborn/_decorators.py:43: FutureWarning: Pass the following variables as keyword args: x, y. From version 0.12, the only valid positional argument will be `data`, and passing other arguments without an explicit keyword will result in an error or misinterpretation.\n",
            "  FutureWarning\n"
          ],
          "name": "stderr"
        },
        {
          "output_type": "display_data",
          "data": {
            "image/png": "[encoded data removed]",
            "text/plain": [
              "<Figure size 432x288 with 1 Axes>"
            ]
          },
          "metadata": {
            "tags": [],
            "needs_background": "light"
          }
        }
      ]
    },
    {
      "cell_type": "code",
      "metadata": {
        "colab": {
          "base_uri": "https://localhost:8080/"
        },
        "id": "hXesvqtK35CN",
        "outputId": "b7dab641-fb94-4c14-88cd-69cdad419a27"
      },
      "source": [
        "#Actual\n",
        "mse_xtr = mse(xtr_pred, y_test)\n",
        "print('MSE =', mse_xtr)\n",
        "print('MAE =', mae(xtr_pred, y_test))\n",
        "print('RMSE =', np.sqrt(mse_xtr))\n",
        "print('R2 Score =', r2_score(xtr_pred, y_test))"
      ],
      "id": "hXesvqtK35CN",
      "execution_count": null,
      "outputs": [
        {
          "output_type": "stream",
          "text": [
            "MSE = 29372728284.461506\n",
            "MAE = 106339.40378555557\n",
            "RMSE = 171384.73760653692\n",
            "R2 Score = 0.9681362174298782\n"
          ],
          "name": "stdout"
        }
      ]
    },
    {
      "cell_type": "markdown",
      "metadata": {
        "id": "sitting-population"
      },
      "source": [
        "## 5. SVR"
      ],
      "id": "sitting-population"
    },
    {
      "cell_type": "code",
      "metadata": {
        "id": "exotic-riding"
      },
      "source": [
        "from sklearn.svm import SVR\n",
        "regresiSVR =SVR(kernel='rbf')\n",
        "regresiSVR.fit(X_train,np.ravel(y_train))\n",
        "pred=regresiSVR.predict(X_test)"
      ],
      "id": "exotic-riding",
      "execution_count": null,
      "outputs": []
    },
    {
      "cell_type": "code",
      "metadata": {
        "colab": {
          "base_uri": "https://localhost:8080/"
        },
        "id": "roman-mathematics",
        "outputId": "5ac41ba1-7858-46e5-d2a5-f687729581f5"
      },
      "source": [
        "print('MSE =', mse(pred, y_test))\n",
        "print('MAE =', mae(pred, y_test))\n",
        "#print('R2 Score =', r2_score(pred, y_test))\n",
        "print(regresiSVR.score(X_test,y_test))"
      ],
      "id": "roman-mathematics",
      "execution_count": null,
      "outputs": [
        {
          "output_type": "stream",
          "text": [
            "MSE = 0.04341249198099148\n",
            "MAE = 0.15059771922590806\n",
            "0.9289925203162549\n"
          ],
          "name": "stdout"
        }
      ]
    },
    {
      "cell_type": "code",
      "metadata": {
        "id": "nBIA-mXu59a3"
      },
      "source": [
        "pred = sc.inverse_transform(pred)"
      ],
      "id": "nBIA-mXu59a3",
      "execution_count": null,
      "outputs": []
    },
    {
      "cell_type": "code",
      "metadata": {
        "colab": {
          "base_uri": "https://localhost:8080/"
        },
        "id": "1EaPmIxe6HmJ",
        "outputId": "493d5ca7-3ee6-4c2e-f510-d30915fe029f"
      },
      "source": [
        "mse_svr = mse(pred, y_test)\n",
        "print('MSE =', mse_svr)\n",
        "print('MAE =', mae(pred, y_test))\n",
        "print('RMSE =', mse_svr)\n",
        "print('R2 Score =', r2_score(pred, y_test))"
      ],
      "id": "1EaPmIxe6HmJ",
      "execution_count": null,
      "outputs": [
        {
          "output_type": "stream",
          "text": [
            "MSE = 62779734982.36649\n",
            "MAE = 181100.96963371226\n",
            "RMSE = 62779734982.36649\n",
            "R2 Score = 0.9239097416871673\n"
          ],
          "name": "stdout"
        }
      ]
    },
    {
      "cell_type": "markdown",
      "metadata": {
        "id": "-dnV6e08nlxU"
      },
      "source": [
        "## 6. XGBOOST"
      ],
      "id": "-dnV6e08nlxU"
    },
    {
      "cell_type": "code",
      "metadata": {
        "colab": {
          "base_uri": "https://localhost:8080/"
        },
        "id": "Y8sP041Acqx_",
        "outputId": "6502278a-0904-466d-fd92-9680f05df73e"
      },
      "source": [
        "from xgboost import XGBRegressor\n",
        "\n",
        "XGBModel = XGBRegressor()\n",
        "XGBModel.fit(X_train,y_train , verbose=True)\n",
        "xgb_pred = XGBModel.predict(X_test)"
      ],
      "id": "Y8sP041Acqx_",
      "execution_count": null,
      "outputs": [
        {
          "output_type": "stream",
          "text": [
            "[06:35:51] WARNING: /workspace/src/objective/regression_obj.cu:152: reg:linear is now deprecated in favor of reg:squarederror.\n"
          ],
          "name": "stdout"
        }
      ]
    },
    {
      "cell_type": "code",
      "metadata": {
        "colab": {
          "base_uri": "https://localhost:8080/"
        },
        "id": "xoxkdMOmcsEo",
        "outputId": "d5fd1cce-cb84-419a-f1e3-b927682a1a1a"
      },
      "source": [
        "mse_xgb = mse(xgb_pred, y_test)\n",
        "print('MSE =', mse_xgb)\n",
        "print('MAE =', mae(xgb_pred, y_test))\n",
        "print('RMSE =', np.sqrt(mse_xgb))\n",
        "print('R2 Score =', r2_score(xgb_pred, y_test))"
      ],
      "id": "xoxkdMOmcsEo",
      "execution_count": null,
      "outputs": [
        {
          "output_type": "stream",
          "text": [
            "MSE = 0.05399056683499951\n",
            "MAE = 0.15617162242144747\n",
            "RMSE = 0.23235870294654234\n",
            "R2 Score = 0.9219594167125579\n"
          ],
          "name": "stdout"
        }
      ]
    },
    {
      "cell_type": "code",
      "metadata": {
        "id": "xJ30pBwA6bpy"
      },
      "source": [
        "xgb_pred = sc.inverse_transform(xgb_pred)"
      ],
      "id": "xJ30pBwA6bpy",
      "execution_count": null,
      "outputs": []
    },
    {
      "cell_type": "code",
      "metadata": {
        "colab": {
          "base_uri": "https://localhost:8080/"
        },
        "id": "f4jC25F_6hA0",
        "outputId": "fcf15480-801b-42a3-a654-7efe82683e9f"
      },
      "source": [
        "mse_xgb = mse(xgb_pred, y_test)\n",
        "print('MSE =', mse_xgb)\n",
        "print('MAE =', mae(xgb_pred, y_test))\n",
        "print('RMSE =', np.sqrt(mse_xgb))\n",
        "print('R2 Score =', r2_score(xgb_pred, y_test))"
      ],
      "id": "f4jC25F_6hA0",
      "execution_count": null,
      "outputs": [
        {
          "output_type": "stream",
          "text": [
            "MSE = 78076915223.30951\n",
            "MAE = 187803.8647083333\n",
            "RMSE = 279422.46728441416\n",
            "R2 Score = 0.9219594179348886\n"
          ],
          "name": "stdout"
        }
      ]
    },
    {
      "cell_type": "markdown",
      "metadata": {
        "id": "occasional-expert"
      },
      "source": [
        "## 7. ANN"
      ],
      "id": "occasional-expert"
    },
    {
      "cell_type": "code",
      "metadata": {
        "id": "disciplinary-cancer"
      },
      "source": [
        "import keras\n",
        "from tensorflow.keras.models import Sequential\n",
        "from tensorflow.keras.layers import Dense, Dropout\n",
        "from tensorflow.keras.callbacks import EarlyStopping"
      ],
      "id": "disciplinary-cancer",
      "execution_count": null,
      "outputs": []
    },
    {
      "cell_type": "code",
      "metadata": {
        "id": "0KWV5yhiXbbp",
        "colab": {
          "base_uri": "https://localhost:8080/"
        },
        "outputId": "35576c43-f5d8-47a1-abab-6270a007b0fc"
      },
      "source": [
        "model=Sequential()\n",
        "\n",
        "model.add(Dense(30, kernel_initializer='normal',input_dim = X_train.shape[1], activation='relu'))\n",
        "model.add(Dense(30, activation='relu',kernel_initializer='normal'))\n",
        "#model.add(Dense(256, activation='relu',kernel_initializer='normal'))\n",
        "#model.add(Dense(256, activation='relu',kernel_initializer='normal'))\n",
        "\n",
        "model.add(Dense(1,activation='linear',kernel_initializer='normal'))\n",
        "\n",
        "model.compile(optimizer='adam',loss='mean_squared_error')\n",
        "model.summary()"
      ],
      "id": "0KWV5yhiXbbp",
      "execution_count": null,
      "outputs": [
        {
          "output_type": "stream",
          "text": [
            "Model: \"sequential_2\"\n",
            "_________________________________________________________________\n",
            "Layer (type)                 Output Shape              Param #   \n",
            "=================================================================\n",
            "dense_6 (Dense)              (None, 30)                390       \n",
            "_________________________________________________________________\n",
            "dense_7 (Dense)              (None, 30)                930       \n",
            "_________________________________________________________________\n",
            "dense_8 (Dense)              (None, 1)                 31        \n",
            "=================================================================\n",
            "Total params: 1,351\n",
            "Trainable params: 1,351\n",
            "Non-trainable params: 0\n",
            "_________________________________________________________________\n"
          ],
          "name": "stdout"
        }
      ]
    },
    {
      "cell_type": "code",
      "metadata": {
        "colab": {
          "base_uri": "https://localhost:8080/"
        },
        "id": "Pa0xmLuOXxuH",
        "outputId": "93191b04-14a9-4b31-8009-baf934d876dc"
      },
      "source": [
        "model.fit(X_train,y_train,batch_size = 32, epochs= 200,verbose=1,validation_split=0.2)"
      ],
      "id": "Pa0xmLuOXxuH",
      "execution_count": null,
      "outputs": [
        {
          "output_type": "stream",
          "text": [
            "Epoch 1/200\n",
            "5/5 [==============================] - 1s 79ms/step - loss: 0.9980 - val_loss: 0.9584\n",
            "Epoch 2/200\n",
            "5/5 [==============================] - 0s 11ms/step - loss: 1.0116 - val_loss: 0.9482\n",
            "Epoch 3/200\n",
            "5/5 [==============================] - 0s 12ms/step - loss: 1.0148 - val_loss: 0.9348\n",
            "Epoch 4/200\n",
            "5/5 [==============================] - 0s 16ms/step - loss: 1.1142 - val_loss: 0.9168\n",
            "Epoch 5/200\n",
            "5/5 [==============================] - 0s 12ms/step - loss: 1.0212 - val_loss: 0.8914\n",
            "Epoch 6/200\n",
            "5/5 [==============================] - 0s 12ms/step - loss: 0.9825 - val_loss: 0.8559\n",
            "Epoch 7/200\n",
            "5/5 [==============================] - 0s 13ms/step - loss: 0.8298 - val_loss: 0.8079\n",
            "Epoch 8/200\n",
            "5/5 [==============================] - 0s 15ms/step - loss: 0.8055 - val_loss: 0.7461\n",
            "Epoch 9/200\n",
            "5/5 [==============================] - 0s 14ms/step - loss: 0.8795 - val_loss: 0.6691\n",
            "Epoch 10/200\n",
            "5/5 [==============================] - 0s 13ms/step - loss: 0.6347 - val_loss: 0.5797\n",
            "Epoch 11/200\n",
            "5/5 [==============================] - 0s 12ms/step - loss: 0.5851 - val_loss: 0.4801\n",
            "Epoch 12/200\n",
            "5/5 [==============================] - 0s 11ms/step - loss: 0.4425 - val_loss: 0.3759\n",
            "Epoch 13/200\n",
            "5/5 [==============================] - 0s 13ms/step - loss: 0.3487 - val_loss: 0.2782\n",
            "Epoch 14/200\n",
            "5/5 [==============================] - 0s 13ms/step - loss: 0.2413 - val_loss: 0.2015\n",
            "Epoch 15/200\n",
            "5/5 [==============================] - 0s 12ms/step - loss: 0.1972 - val_loss: 0.1555\n",
            "Epoch 16/200\n",
            "5/5 [==============================] - 0s 12ms/step - loss: 0.1936 - val_loss: 0.1390\n",
            "Epoch 17/200\n",
            "5/5 [==============================] - 0s 12ms/step - loss: 0.1718 - val_loss: 0.1350\n",
            "Epoch 18/200\n",
            "5/5 [==============================] - 0s 12ms/step - loss: 0.2103 - val_loss: 0.1329\n",
            "Epoch 19/200\n",
            "5/5 [==============================] - 0s 14ms/step - loss: 0.1695 - val_loss: 0.1293\n",
            "Epoch 20/200\n",
            "5/5 [==============================] - 0s 13ms/step - loss: 0.1905 - val_loss: 0.1262\n",
            "Epoch 21/200\n",
            "5/5 [==============================] - 0s 14ms/step - loss: 0.1273 - val_loss: 0.1235\n",
            "Epoch 22/200\n",
            "5/5 [==============================] - 0s 12ms/step - loss: 0.1694 - val_loss: 0.1226\n",
            "Epoch 23/200\n",
            "5/5 [==============================] - 0s 12ms/step - loss: 0.1623 - val_loss: 0.1221\n",
            "Epoch 24/200\n",
            "5/5 [==============================] - 0s 11ms/step - loss: 0.1512 - val_loss: 0.1217\n",
            "Epoch 25/200\n",
            "5/5 [==============================] - 0s 15ms/step - loss: 0.1750 - val_loss: 0.1198\n",
            "Epoch 26/200\n",
            "5/5 [==============================] - 0s 11ms/step - loss: 0.1376 - val_loss: 0.1211\n",
            "Epoch 27/200\n",
            "5/5 [==============================] - 0s 13ms/step - loss: 0.1256 - val_loss: 0.1218\n",
            "Epoch 28/200\n",
            "5/5 [==============================] - 0s 12ms/step - loss: 0.1657 - val_loss: 0.1224\n",
            "Epoch 29/200\n",
            "5/5 [==============================] - 0s 12ms/step - loss: 0.1547 - val_loss: 0.1227\n",
            "Epoch 30/200\n",
            "5/5 [==============================] - 0s 13ms/step - loss: 0.1224 - val_loss: 0.1219\n",
            "Epoch 31/200\n",
            "5/5 [==============================] - 0s 13ms/step - loss: 0.1570 - val_loss: 0.1202\n",
            "Epoch 32/200\n",
            "5/5 [==============================] - 0s 14ms/step - loss: 0.1397 - val_loss: 0.1197\n",
            "Epoch 33/200\n",
            "5/5 [==============================] - 0s 12ms/step - loss: 0.1387 - val_loss: 0.1203\n",
            "Epoch 34/200\n",
            "5/5 [==============================] - 0s 12ms/step - loss: 0.1509 - val_loss: 0.1186\n",
            "Epoch 35/200\n",
            "5/5 [==============================] - 0s 15ms/step - loss: 0.1364 - val_loss: 0.1188\n",
            "Epoch 36/200\n",
            "5/5 [==============================] - 0s 15ms/step - loss: 0.1309 - val_loss: 0.1192\n",
            "Epoch 37/200\n",
            "5/5 [==============================] - 0s 15ms/step - loss: 0.1132 - val_loss: 0.1188\n",
            "Epoch 38/200\n",
            "5/5 [==============================] - 0s 15ms/step - loss: 0.1408 - val_loss: 0.1189\n",
            "Epoch 39/200\n",
            "5/5 [==============================] - 0s 12ms/step - loss: 0.1062 - val_loss: 0.1191\n",
            "Epoch 40/200\n",
            "5/5 [==============================] - 0s 16ms/step - loss: 0.1287 - val_loss: 0.1172\n",
            "Epoch 41/200\n",
            "5/5 [==============================] - 0s 15ms/step - loss: 0.1607 - val_loss: 0.1166\n",
            "Epoch 42/200\n",
            "5/5 [==============================] - 0s 14ms/step - loss: 0.1169 - val_loss: 0.1165\n",
            "Epoch 43/200\n",
            "5/5 [==============================] - 0s 15ms/step - loss: 0.1625 - val_loss: 0.1181\n",
            "Epoch 44/200\n",
            "5/5 [==============================] - 0s 14ms/step - loss: 0.1561 - val_loss: 0.1177\n",
            "Epoch 45/200\n",
            "5/5 [==============================] - 0s 13ms/step - loss: 0.1426 - val_loss: 0.1172\n",
            "Epoch 46/200\n",
            "5/5 [==============================] - 0s 11ms/step - loss: 0.1014 - val_loss: 0.1167\n",
            "Epoch 47/200\n",
            "5/5 [==============================] - 0s 14ms/step - loss: 0.1304 - val_loss: 0.1149\n",
            "Epoch 48/200\n",
            "5/5 [==============================] - 0s 13ms/step - loss: 0.1667 - val_loss: 0.1153\n",
            "Epoch 49/200\n",
            "5/5 [==============================] - 0s 12ms/step - loss: 0.1624 - val_loss: 0.1167\n",
            "Epoch 50/200\n",
            "5/5 [==============================] - 0s 13ms/step - loss: 0.1604 - val_loss: 0.1210\n",
            "Epoch 51/200\n",
            "5/5 [==============================] - 0s 12ms/step - loss: 0.1253 - val_loss: 0.1224\n",
            "Epoch 52/200\n",
            "5/5 [==============================] - 0s 12ms/step - loss: 0.1301 - val_loss: 0.1211\n",
            "Epoch 53/200\n",
            "5/5 [==============================] - 0s 11ms/step - loss: 0.0964 - val_loss: 0.1178\n",
            "Epoch 54/200\n",
            "5/5 [==============================] - 0s 14ms/step - loss: 0.1020 - val_loss: 0.1178\n",
            "Epoch 55/200\n",
            "5/5 [==============================] - 0s 13ms/step - loss: 0.1197 - val_loss: 0.1181\n",
            "Epoch 56/200\n",
            "5/5 [==============================] - 0s 12ms/step - loss: 0.1378 - val_loss: 0.1168\n",
            "Epoch 57/200\n",
            "5/5 [==============================] - 0s 13ms/step - loss: 0.1374 - val_loss: 0.1155\n",
            "Epoch 58/200\n",
            "5/5 [==============================] - 0s 12ms/step - loss: 0.1212 - val_loss: 0.1165\n",
            "Epoch 59/200\n",
            "5/5 [==============================] - 0s 13ms/step - loss: 0.1186 - val_loss: 0.1179\n",
            "Epoch 60/200\n",
            "5/5 [==============================] - 0s 13ms/step - loss: 0.1443 - val_loss: 0.1174\n",
            "Epoch 61/200\n",
            "5/5 [==============================] - 0s 14ms/step - loss: 0.1656 - val_loss: 0.1166\n",
            "Epoch 62/200\n",
            "5/5 [==============================] - 0s 12ms/step - loss: 0.1046 - val_loss: 0.1175\n",
            "Epoch 63/200\n",
            "5/5 [==============================] - 0s 13ms/step - loss: 0.1296 - val_loss: 0.1184\n",
            "Epoch 64/200\n",
            "5/5 [==============================] - 0s 14ms/step - loss: 0.1317 - val_loss: 0.1196\n",
            "Epoch 65/200\n",
            "5/5 [==============================] - 0s 14ms/step - loss: 0.1046 - val_loss: 0.1211\n",
            "Epoch 66/200\n",
            "5/5 [==============================] - 0s 14ms/step - loss: 0.1086 - val_loss: 0.1218\n",
            "Epoch 67/200\n",
            "5/5 [==============================] - 0s 13ms/step - loss: 0.1421 - val_loss: 0.1215\n",
            "Epoch 68/200\n",
            "5/5 [==============================] - 0s 14ms/step - loss: 0.1232 - val_loss: 0.1215\n",
            "Epoch 69/200\n",
            "5/5 [==============================] - 0s 13ms/step - loss: 0.1290 - val_loss: 0.1223\n",
            "Epoch 70/200\n",
            "5/5 [==============================] - 0s 12ms/step - loss: 0.1345 - val_loss: 0.1226\n",
            "Epoch 71/200\n",
            "5/5 [==============================] - 0s 16ms/step - loss: 0.1033 - val_loss: 0.1225\n",
            "Epoch 72/200\n",
            "5/5 [==============================] - 0s 14ms/step - loss: 0.1176 - val_loss: 0.1212\n",
            "Epoch 73/200\n",
            "5/5 [==============================] - 0s 13ms/step - loss: 0.1358 - val_loss: 0.1218\n",
            "Epoch 74/200\n",
            "5/5 [==============================] - 0s 13ms/step - loss: 0.0869 - val_loss: 0.1216\n",
            "Epoch 75/200\n",
            "5/5 [==============================] - 0s 16ms/step - loss: 0.1243 - val_loss: 0.1213\n",
            "Epoch 76/200\n",
            "5/5 [==============================] - 0s 13ms/step - loss: 0.1187 - val_loss: 0.1209\n",
            "Epoch 77/200\n",
            "5/5 [==============================] - 0s 12ms/step - loss: 0.0921 - val_loss: 0.1207\n",
            "Epoch 78/200\n",
            "5/5 [==============================] - 0s 14ms/step - loss: 0.1299 - val_loss: 0.1220\n",
            "Epoch 79/200\n",
            "5/5 [==============================] - 0s 13ms/step - loss: 0.1068 - val_loss: 0.1238\n",
            "Epoch 80/200\n",
            "5/5 [==============================] - 0s 12ms/step - loss: 0.1297 - val_loss: 0.1250\n",
            "Epoch 81/200\n",
            "5/5 [==============================] - 0s 11ms/step - loss: 0.1184 - val_loss: 0.1257\n",
            "Epoch 82/200\n",
            "5/5 [==============================] - 0s 13ms/step - loss: 0.1091 - val_loss: 0.1257\n",
            "Epoch 83/200\n",
            "5/5 [==============================] - 0s 11ms/step - loss: 0.1466 - val_loss: 0.1264\n",
            "Epoch 84/200\n",
            "5/5 [==============================] - 0s 12ms/step - loss: 0.1305 - val_loss: 0.1263\n",
            "Epoch 85/200\n",
            "5/5 [==============================] - 0s 12ms/step - loss: 0.1012 - val_loss: 0.1266\n",
            "Epoch 86/200\n",
            "5/5 [==============================] - 0s 12ms/step - loss: 0.1036 - val_loss: 0.1262\n",
            "Epoch 87/200\n",
            "5/5 [==============================] - 0s 17ms/step - loss: 0.1205 - val_loss: 0.1260\n",
            "Epoch 88/200\n",
            "5/5 [==============================] - 0s 14ms/step - loss: 0.1052 - val_loss: 0.1257\n",
            "Epoch 89/200\n",
            "5/5 [==============================] - 0s 12ms/step - loss: 0.1164 - val_loss: 0.1261\n",
            "Epoch 90/200\n",
            "5/5 [==============================] - 0s 12ms/step - loss: 0.1135 - val_loss: 0.1267\n",
            "Epoch 91/200\n",
            "5/5 [==============================] - 0s 12ms/step - loss: 0.1368 - val_loss: 0.1273\n",
            "Epoch 92/200\n",
            "5/5 [==============================] - 0s 12ms/step - loss: 0.1072 - val_loss: 0.1287\n",
            "Epoch 93/200\n",
            "5/5 [==============================] - 0s 13ms/step - loss: 0.0909 - val_loss: 0.1298\n",
            "Epoch 94/200\n",
            "5/5 [==============================] - 0s 13ms/step - loss: 0.0979 - val_loss: 0.1268\n",
            "Epoch 95/200\n",
            "5/5 [==============================] - 0s 14ms/step - loss: 0.0721 - val_loss: 0.1266\n",
            "Epoch 96/200\n",
            "5/5 [==============================] - 0s 13ms/step - loss: 0.0988 - val_loss: 0.1296\n",
            "Epoch 97/200\n",
            "5/5 [==============================] - 0s 11ms/step - loss: 0.1039 - val_loss: 0.1309\n",
            "Epoch 98/200\n",
            "5/5 [==============================] - 0s 13ms/step - loss: 0.0852 - val_loss: 0.1326\n",
            "Epoch 99/200\n",
            "5/5 [==============================] - 0s 13ms/step - loss: 0.1021 - val_loss: 0.1316\n",
            "Epoch 100/200\n",
            "5/5 [==============================] - 0s 13ms/step - loss: 0.1027 - val_loss: 0.1309\n",
            "Epoch 101/200\n",
            "5/5 [==============================] - 0s 12ms/step - loss: 0.1151 - val_loss: 0.1303\n",
            "Epoch 102/200\n",
            "5/5 [==============================] - 0s 12ms/step - loss: 0.0791 - val_loss: 0.1301\n",
            "Epoch 103/200\n",
            "5/5 [==============================] - 0s 11ms/step - loss: 0.1120 - val_loss: 0.1300\n",
            "Epoch 104/200\n",
            "5/5 [==============================] - 0s 12ms/step - loss: 0.0929 - val_loss: 0.1297\n",
            "Epoch 105/200\n",
            "5/5 [==============================] - 0s 16ms/step - loss: 0.1107 - val_loss: 0.1295\n",
            "Epoch 106/200\n",
            "5/5 [==============================] - 0s 12ms/step - loss: 0.0969 - val_loss: 0.1292\n",
            "Epoch 107/200\n",
            "5/5 [==============================] - 0s 12ms/step - loss: 0.1026 - val_loss: 0.1288\n",
            "Epoch 108/200\n",
            "5/5 [==============================] - 0s 14ms/step - loss: 0.1513 - val_loss: 0.1312\n",
            "Epoch 109/200\n",
            "5/5 [==============================] - 0s 12ms/step - loss: 0.1130 - val_loss: 0.1320\n",
            "Epoch 110/200\n",
            "5/5 [==============================] - 0s 13ms/step - loss: 0.0903 - val_loss: 0.1338\n",
            "Epoch 111/200\n",
            "5/5 [==============================] - 0s 14ms/step - loss: 0.0918 - val_loss: 0.1335\n",
            "Epoch 112/200\n",
            "5/5 [==============================] - 0s 15ms/step - loss: 0.0789 - val_loss: 0.1324\n",
            "Epoch 113/200\n",
            "5/5 [==============================] - 0s 14ms/step - loss: 0.0985 - val_loss: 0.1325\n",
            "Epoch 114/200\n",
            "5/5 [==============================] - 0s 13ms/step - loss: 0.0848 - val_loss: 0.1310\n",
            "Epoch 115/200\n",
            "5/5 [==============================] - 0s 13ms/step - loss: 0.1011 - val_loss: 0.1295\n",
            "Epoch 116/200\n",
            "5/5 [==============================] - 0s 12ms/step - loss: 0.0815 - val_loss: 0.1295\n",
            "Epoch 117/200\n",
            "5/5 [==============================] - 0s 13ms/step - loss: 0.0926 - val_loss: 0.1319\n",
            "Epoch 118/200\n",
            "5/5 [==============================] - 0s 14ms/step - loss: 0.1083 - val_loss: 0.1317\n",
            "Epoch 119/200\n",
            "5/5 [==============================] - 0s 15ms/step - loss: 0.0748 - val_loss: 0.1305\n",
            "Epoch 120/200\n",
            "5/5 [==============================] - 0s 14ms/step - loss: 0.0907 - val_loss: 0.1311\n",
            "Epoch 121/200\n",
            "5/5 [==============================] - 0s 15ms/step - loss: 0.0794 - val_loss: 0.1293\n",
            "Epoch 122/200\n",
            "5/5 [==============================] - 0s 12ms/step - loss: 0.0903 - val_loss: 0.1305\n",
            "Epoch 123/200\n",
            "5/5 [==============================] - 0s 12ms/step - loss: 0.0851 - val_loss: 0.1316\n",
            "Epoch 124/200\n",
            "5/5 [==============================] - 0s 14ms/step - loss: 0.1053 - val_loss: 0.1298\n",
            "Epoch 125/200\n",
            "5/5 [==============================] - 0s 13ms/step - loss: 0.1005 - val_loss: 0.1301\n",
            "Epoch 126/200\n",
            "5/5 [==============================] - 0s 13ms/step - loss: 0.0851 - val_loss: 0.1283\n",
            "Epoch 127/200\n",
            "5/5 [==============================] - 0s 13ms/step - loss: 0.1109 - val_loss: 0.1296\n",
            "Epoch 128/200\n",
            "5/5 [==============================] - 0s 14ms/step - loss: 0.0840 - val_loss: 0.1297\n",
            "Epoch 129/200\n",
            "5/5 [==============================] - 0s 14ms/step - loss: 0.0918 - val_loss: 0.1297\n",
            "Epoch 130/200\n",
            "5/5 [==============================] - 0s 12ms/step - loss: 0.0884 - val_loss: 0.1287\n",
            "Epoch 131/200\n",
            "5/5 [==============================] - 0s 13ms/step - loss: 0.1177 - val_loss: 0.1300\n",
            "Epoch 132/200\n",
            "5/5 [==============================] - 0s 12ms/step - loss: 0.0861 - val_loss: 0.1308\n",
            "Epoch 133/200\n",
            "5/5 [==============================] - 0s 12ms/step - loss: 0.0917 - val_loss: 0.1299\n",
            "Epoch 134/200\n",
            "5/5 [==============================] - 0s 13ms/step - loss: 0.0736 - val_loss: 0.1286\n",
            "Epoch 135/200\n",
            "5/5 [==============================] - 0s 13ms/step - loss: 0.1123 - val_loss: 0.1288\n",
            "Epoch 136/200\n",
            "5/5 [==============================] - 0s 13ms/step - loss: 0.0764 - val_loss: 0.1307\n",
            "Epoch 137/200\n",
            "5/5 [==============================] - 0s 14ms/step - loss: 0.0814 - val_loss: 0.1273\n",
            "Epoch 138/200\n",
            "5/5 [==============================] - 0s 15ms/step - loss: 0.0901 - val_loss: 0.1278\n",
            "Epoch 139/200\n",
            "5/5 [==============================] - 0s 14ms/step - loss: 0.0886 - val_loss: 0.1279\n",
            "Epoch 140/200\n",
            "5/5 [==============================] - 0s 12ms/step - loss: 0.0755 - val_loss: 0.1254\n",
            "Epoch 141/200\n",
            "5/5 [==============================] - 0s 11ms/step - loss: 0.0924 - val_loss: 0.1235\n",
            "Epoch 142/200\n",
            "5/5 [==============================] - 0s 11ms/step - loss: 0.1018 - val_loss: 0.1239\n",
            "Epoch 143/200\n",
            "5/5 [==============================] - 0s 13ms/step - loss: 0.0967 - val_loss: 0.1251\n",
            "Epoch 144/200\n",
            "5/5 [==============================] - 0s 14ms/step - loss: 0.0930 - val_loss: 0.1254\n",
            "Epoch 145/200\n",
            "5/5 [==============================] - 0s 13ms/step - loss: 0.0940 - val_loss: 0.1273\n",
            "Epoch 146/200\n",
            "5/5 [==============================] - 0s 13ms/step - loss: 0.0734 - val_loss: 0.1243\n",
            "Epoch 147/200\n",
            "5/5 [==============================] - 0s 14ms/step - loss: 0.0779 - val_loss: 0.1258\n",
            "Epoch 148/200\n",
            "5/5 [==============================] - 0s 12ms/step - loss: 0.0996 - val_loss: 0.1281\n",
            "Epoch 149/200\n",
            "5/5 [==============================] - 0s 13ms/step - loss: 0.0744 - val_loss: 0.1296\n",
            "Epoch 150/200\n",
            "5/5 [==============================] - 0s 12ms/step - loss: 0.0875 - val_loss: 0.1275\n",
            "Epoch 151/200\n",
            "5/5 [==============================] - 0s 12ms/step - loss: 0.0669 - val_loss: 0.1280\n",
            "Epoch 152/200\n",
            "5/5 [==============================] - 0s 14ms/step - loss: 0.0867 - val_loss: 0.1299\n",
            "Epoch 153/200\n",
            "5/5 [==============================] - 0s 13ms/step - loss: 0.0740 - val_loss: 0.1286\n",
            "Epoch 154/200\n",
            "5/5 [==============================] - 0s 15ms/step - loss: 0.0786 - val_loss: 0.1261\n",
            "Epoch 155/200\n",
            "5/5 [==============================] - 0s 14ms/step - loss: 0.0822 - val_loss: 0.1246\n",
            "Epoch 156/200\n",
            "5/5 [==============================] - 0s 14ms/step - loss: 0.0925 - val_loss: 0.1250\n",
            "Epoch 157/200\n",
            "5/5 [==============================] - 0s 14ms/step - loss: 0.0988 - val_loss: 0.1249\n",
            "Epoch 158/200\n",
            "5/5 [==============================] - 0s 14ms/step - loss: 0.0775 - val_loss: 0.1282\n",
            "Epoch 159/200\n",
            "5/5 [==============================] - 0s 12ms/step - loss: 0.0856 - val_loss: 0.1309\n",
            "Epoch 160/200\n",
            "5/5 [==============================] - 0s 15ms/step - loss: 0.0768 - val_loss: 0.1317\n",
            "Epoch 161/200\n",
            "5/5 [==============================] - 0s 13ms/step - loss: 0.0774 - val_loss: 0.1303\n",
            "Epoch 162/200\n",
            "5/5 [==============================] - 0s 13ms/step - loss: 0.0921 - val_loss: 0.1277\n",
            "Epoch 163/200\n",
            "5/5 [==============================] - 0s 14ms/step - loss: 0.0823 - val_loss: 0.1257\n",
            "Epoch 164/200\n",
            "5/5 [==============================] - 0s 13ms/step - loss: 0.0753 - val_loss: 0.1237\n",
            "Epoch 165/200\n",
            "5/5 [==============================] - 0s 13ms/step - loss: 0.0996 - val_loss: 0.1261\n",
            "Epoch 166/200\n",
            "5/5 [==============================] - 0s 13ms/step - loss: 0.0779 - val_loss: 0.1248\n",
            "Epoch 167/200\n",
            "5/5 [==============================] - 0s 12ms/step - loss: 0.1060 - val_loss: 0.1241\n",
            "Epoch 168/200\n",
            "5/5 [==============================] - 0s 13ms/step - loss: 0.0875 - val_loss: 0.1235\n",
            "Epoch 169/200\n",
            "5/5 [==============================] - 0s 14ms/step - loss: 0.0655 - val_loss: 0.1259\n",
            "Epoch 170/200\n",
            "5/5 [==============================] - 0s 14ms/step - loss: 0.1024 - val_loss: 0.1262\n",
            "Epoch 171/200\n",
            "5/5 [==============================] - 0s 13ms/step - loss: 0.0819 - val_loss: 0.1281\n",
            "Epoch 172/200\n",
            "5/5 [==============================] - 0s 12ms/step - loss: 0.0874 - val_loss: 0.1273\n",
            "Epoch 173/200\n",
            "5/5 [==============================] - 0s 13ms/step - loss: 0.0730 - val_loss: 0.1274\n",
            "Epoch 174/200\n",
            "5/5 [==============================] - 0s 12ms/step - loss: 0.0861 - val_loss: 0.1273\n",
            "Epoch 175/200\n",
            "5/5 [==============================] - 0s 13ms/step - loss: 0.0872 - val_loss: 0.1280\n",
            "Epoch 176/200\n",
            "5/5 [==============================] - 0s 14ms/step - loss: 0.0802 - val_loss: 0.1266\n",
            "Epoch 177/200\n",
            "5/5 [==============================] - 0s 14ms/step - loss: 0.0918 - val_loss: 0.1236\n",
            "Epoch 178/200\n",
            "5/5 [==============================] - 0s 13ms/step - loss: 0.0718 - val_loss: 0.1230\n",
            "Epoch 179/200\n",
            "5/5 [==============================] - 0s 13ms/step - loss: 0.0648 - val_loss: 0.1254\n",
            "Epoch 180/200\n",
            "5/5 [==============================] - 0s 12ms/step - loss: 0.0679 - val_loss: 0.1282\n",
            "Epoch 181/200\n",
            "5/5 [==============================] - 0s 13ms/step - loss: 0.0743 - val_loss: 0.1291\n",
            "Epoch 182/200\n",
            "5/5 [==============================] - 0s 13ms/step - loss: 0.0844 - val_loss: 0.1309\n",
            "Epoch 183/200\n",
            "5/5 [==============================] - 0s 12ms/step - loss: 0.0920 - val_loss: 0.1286\n",
            "Epoch 184/200\n",
            "5/5 [==============================] - 0s 13ms/step - loss: 0.0736 - val_loss: 0.1275\n",
            "Epoch 185/200\n",
            "5/5 [==============================] - 0s 13ms/step - loss: 0.0839 - val_loss: 0.1265\n",
            "Epoch 186/200\n",
            "5/5 [==============================] - 0s 15ms/step - loss: 0.0923 - val_loss: 0.1253\n",
            "Epoch 187/200\n",
            "5/5 [==============================] - 0s 13ms/step - loss: 0.0929 - val_loss: 0.1249\n",
            "Epoch 188/200\n",
            "5/5 [==============================] - 0s 14ms/step - loss: 0.0853 - val_loss: 0.1252\n",
            "Epoch 189/200\n",
            "5/5 [==============================] - 0s 14ms/step - loss: 0.0687 - val_loss: 0.1263\n",
            "Epoch 190/200\n",
            "5/5 [==============================] - 0s 13ms/step - loss: 0.0893 - val_loss: 0.1264\n",
            "Epoch 191/200\n",
            "5/5 [==============================] - 0s 13ms/step - loss: 0.0785 - val_loss: 0.1265\n",
            "Epoch 192/200\n",
            "5/5 [==============================] - 0s 18ms/step - loss: 0.0845 - val_loss: 0.1243\n",
            "Epoch 193/200\n",
            "5/5 [==============================] - 0s 12ms/step - loss: 0.0970 - val_loss: 0.1250\n",
            "Epoch 194/200\n",
            "5/5 [==============================] - 0s 17ms/step - loss: 0.0803 - val_loss: 0.1301\n",
            "Epoch 195/200\n",
            "5/5 [==============================] - 0s 14ms/step - loss: 0.0711 - val_loss: 0.1315\n",
            "Epoch 196/200\n",
            "5/5 [==============================] - 0s 14ms/step - loss: 0.0820 - val_loss: 0.1306\n",
            "Epoch 197/200\n",
            "5/5 [==============================] - 0s 15ms/step - loss: 0.0736 - val_loss: 0.1288\n",
            "Epoch 198/200\n",
            "5/5 [==============================] - 0s 14ms/step - loss: 0.0672 - val_loss: 0.1337\n",
            "Epoch 199/200\n",
            "5/5 [==============================] - 0s 12ms/step - loss: 0.0792 - val_loss: 0.1352\n",
            "Epoch 200/200\n",
            "5/5 [==============================] - 0s 15ms/step - loss: 0.0859 - val_loss: 0.1321\n"
          ],
          "name": "stdout"
        },
        {
          "output_type": "execute_result",
          "data": {
            "text/plain": [
              "<tensorflow.python.keras.callbacks.History at 0x7f5ed7d017d0>"
            ]
          },
          "metadata": {
            "tags": []
          },
          "execution_count": 48
        }
      ]
    },
    {
      "cell_type": "code",
      "metadata": {
        "colab": {
          "base_uri": "https://localhost:8080/",
          "height": 501
        },
        "id": "fEQx9j1IX9y1",
        "outputId": "fe7a4e64-0ffa-468d-a4cf-5bf6af113903"
      },
      "source": [
        "loss_df=pd.DataFrame(model.history.history)\n",
        "loss_df.plot(figsize=(14,8))"
      ],
      "id": "fEQx9j1IX9y1",
      "execution_count": null,
      "outputs": [
        {
          "output_type": "execute_result",
          "data": {
            "text/plain": [
              "<matplotlib.axes._subplots.AxesSubplot at 0x7f5ed96b2e50>"
            ]
          },
          "metadata": {
            "tags": []
          },
          "execution_count": 49
        },
        {
          "output_type": "display_data",
          "data": {
            "image/png": "[encoded data removed]",
            "text/plain": [
              "<Figure size 1008x576 with 1 Axes>"
            ]
          },
          "metadata": {
            "tags": [],
            "needs_background": "light"
          }
        }
      ]
    },
    {
      "cell_type": "code",
      "metadata": {
        "id": "TgGbumUPZBzp"
      },
      "source": [
        "y_prediksi = model.predict(X_test)"
      ],
      "id": "TgGbumUPZBzp",
      "execution_count": null,
      "outputs": []
    },
    {
      "cell_type": "code",
      "metadata": {
        "colab": {
          "base_uri": "https://localhost:8080/"
        },
        "id": "i_pUEPfNZGLS",
        "outputId": "96a0c9db-a84e-4808-a961-7e1d3a62ef69"
      },
      "source": [
        "mse2 = mse(y_prediksi, y_test)\n",
        "print('MSE =', mse2)\n",
        "print('MAE =', mae(y_prediksi, y_test))\n",
        "print('RMSE =', np.sqrt(mse2))\n",
        "print('R2 Score =', r2_score(y_prediksi, y_test))"
      ],
      "id": "i_pUEPfNZGLS",
      "execution_count": null,
      "outputs": [
        {
          "output_type": "stream",
          "text": [
            "MSE = 0.06711501661623984\n",
            "MAE = 0.18738864353092888\n",
            "RMSE = 0.25906566082026355\n",
            "R2 Score = 0.9098356025435403\n"
          ],
          "name": "stdout"
        }
      ]
    },
    {
      "cell_type": "code",
      "metadata": {
        "id": "L94ZOR6g66Fg"
      },
      "source": [
        "y_prediksi = sc.inverse_transform(y_prediksi)"
      ],
      "id": "L94ZOR6g66Fg",
      "execution_count": null,
      "outputs": []
    },
    {
      "cell_type": "code",
      "metadata": {
        "colab": {
          "base_uri": "https://localhost:8080/"
        },
        "id": "R9s8EpJc7snp",
        "outputId": "49e2074a-0053-4338-99f7-857b977329f2"
      },
      "source": [
        "mse2 = mse(y_prediksi, y_test)\n",
        "print('MSE =', mse2)\n",
        "print('MAE =', mae(y_prediksi, y_test))\n",
        "print('RMSE =', np.sqrt(mse2))\n",
        "print('R2 Score =', r2_score(y_prediksi, y_test))"
      ],
      "id": "R9s8EpJc7snp",
      "execution_count": null,
      "outputs": [
        {
          "output_type": "stream",
          "text": [
            "MSE = 97056465299.87012\n",
            "MAE = 225343.8268888889\n",
            "RMSE = 311538.8664354259\n",
            "R2 Score = 0.9098356034969483\n"
          ],
          "name": "stdout"
        }
      ]
    },
    {
      "cell_type": "code",
      "metadata": {
        "colab": {
          "base_uri": "https://localhost:8080/",
          "height": 410
        },
        "id": "Pb45DdTjaW8t",
        "outputId": "4f8623a4-9a53-4b31-ec5a-4c400fa3ae23"
      },
      "source": [
        "scorre = np.array([0.8971994595759115, 0.8937180597236807, 0.9577873326180273, 0.9681362174298782, 0.9289925203162549, 0.9219594179348886, 0.9098356025435403])\n",
        "names = ['RandomForest', 'DecisionTree', 'GradientBoost', 'ExtraTree', 'SVR', 'XGBoost', 'ANN']\n",
        "plt.figure(figsize=(10,5))\n",
        "sns.barplot(names,scorre)\n",
        "#plt.plot(names,scorre, 'o-',color='blue')\n",
        "plt.xlabel('Model', fontsize=12)\n",
        "plt.ylabel(\"R^2 Score\", fontsize=12)\n",
        "plt.ylim(0,1)\n",
        "plt.title('Perbandingan Model',fontsize=14)\n",
        "plt.show()"
      ],
      "id": "Pb45DdTjaW8t",
      "execution_count": null,
      "outputs": [
        {
          "output_type": "stream",
          "text": [
            "/usr/local/lib/python3.7/dist-packages/seaborn/_decorators.py:43: FutureWarning: Pass the following variables as keyword args: x, y. From version 0.12, the only valid positional argument will be `data`, and passing other arguments without an explicit keyword will result in an error or misinterpretation.\n",
            "  FutureWarning\n"
          ],
          "name": "stderr"
        },
        {
          "output_type": "display_data",
          "data": {
            "image/png": "[encoded data removed]",
            "text/plain": [
              "<Figure size 720x360 with 1 Axes>"
            ]
          },
          "metadata": {
            "tags": [],
            "needs_background": "light"
          }
        }
      ]
    }
  ]
}